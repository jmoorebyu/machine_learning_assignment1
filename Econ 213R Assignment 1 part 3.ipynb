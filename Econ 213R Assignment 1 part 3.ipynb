{
 "cells": [
  {
   "cell_type": "markdown",
   "metadata": {},
   "source": [
    "Assignment 1 <br>\n",
    "Econ 213R <br>\n",
    "Reading in Data from 3 sources to visualization"
   ]
  },
  {
   "cell_type": "markdown",
   "metadata": {},
   "source": [
    "## Read in Health Data\n",
    "First, taking the csv from the BRFSS 2015 health survey and creating a dataframe"
   ]
  },
  {
   "cell_type": "code",
   "execution_count": 1,
   "metadata": {},
   "outputs": [],
   "source": [
    "import pandas as pd, numpy as np\n",
    "my_data_frame = pd.read_csv(r\"C:\\Users\\user\\Documents\\Data Projects\\Machine Learning\\2015.csv\", header=0)"
   ]
  },
  {
   "cell_type": "markdown",
   "metadata": {},
   "source": [
    "<b> Key variables <b> <br>\n",
    "    Financial Worries SCNTMNY1 (social context) 20.1, col: 602-603 <br>\n",
    "    7,8,9=. 1-> high 5 -> low <br>\n",
    "    Emotional Support EMTSUPRT 24.1 col 658 <br>\n",
    "    7,9=. 1 -> low; 5 -> high <br.>\n",
    "    Age 7.13 _AGE80 col:1974-1975 Clean! <br>\n",
    "    Depression binary ADDEPEV2 6.10 col 115 <br>\n",
    "    7,9=. , 2=0<br>\n",
    "    Heart Attack CVDINFR4 6.1 col 106 <br>\n",
    "        7,9=., 2=0 <br>\n",
    "    Hypertension BPHIGH4 4.1 col 101 <br>\n",
    "    recode 1=2, 2=0, 3=0, 4=1, 7=., 9=. <br> \n",
    "    Self-report health GENHLTH 1.1 col 90 <br>\n",
    "    7=., 9=., 1 = excellent, 5=poor\n",
    "    \n",
    "    \n"
   ]
  },
  {
   "cell_type": "markdown",
   "metadata": {},
   "source": [
    "## Condenscing the dataset\n",
    "Taking 15 or so key variables and limiting the dataframe to these. Also renaming columns"
   ]
  },
  {
   "cell_type": "code",
   "execution_count": 18,
   "metadata": {},
   "outputs": [],
   "source": [
    "var_names = ['GENHLTH', 'BPHIGH4', 'CVDINFR4', 'ADDEPEV2', '_AGE80', 'EMTSUPRT', 'SCNTMNY1']\n",
    "health_data = my_data_frame[var_names]\n",
    "health_data.columns=['badhealth','blood_pressure','heart_attack', 'depression', 'age', 'badsupport','financial_security']\n",
    "                     \n",
    "                                       \n",
    " "
   ]
  },
  {
   "cell_type": "markdown",
   "metadata": {},
   "source": [
    "### Cleaning\n",
    "Essentially there is a lot of weird coding going on here and I need to make these into variables that are usable\n"
   ]
  },
  {
   "cell_type": "code",
   "execution_count": 20,
   "metadata": {},
   "outputs": [
    {
     "name": "stderr",
     "output_type": "stream",
     "text": [
      "C:\\Users\\user\\Anaconda3\\lib\\site-packages\\ipykernel_launcher.py:1: SettingWithCopyWarning: \n",
      "A value is trying to be set on a copy of a slice from a DataFrame.\n",
      "Try using .loc[row_indexer,col_indexer] = value instead\n",
      "\n",
      "See the caveats in the documentation: http://pandas.pydata.org/pandas-docs/stable/indexing.html#indexing-view-versus-copy\n",
      "  \"\"\"Entry point for launching an IPython kernel.\n",
      "C:\\Users\\user\\Anaconda3\\lib\\site-packages\\ipykernel_launcher.py:2: SettingWithCopyWarning: \n",
      "A value is trying to be set on a copy of a slice from a DataFrame.\n",
      "Try using .loc[row_indexer,col_indexer] = value instead\n",
      "\n",
      "See the caveats in the documentation: http://pandas.pydata.org/pandas-docs/stable/indexing.html#indexing-view-versus-copy\n",
      "  \n",
      "C:\\Users\\user\\Anaconda3\\lib\\site-packages\\ipykernel_launcher.py:3: SettingWithCopyWarning: \n",
      "A value is trying to be set on a copy of a slice from a DataFrame.\n",
      "Try using .loc[row_indexer,col_indexer] = value instead\n",
      "\n",
      "See the caveats in the documentation: http://pandas.pydata.org/pandas-docs/stable/indexing.html#indexing-view-versus-copy\n",
      "  This is separate from the ipykernel package so we can avoid doing imports until\n",
      "C:\\Users\\user\\Anaconda3\\lib\\site-packages\\ipykernel_launcher.py:4: SettingWithCopyWarning: \n",
      "A value is trying to be set on a copy of a slice from a DataFrame.\n",
      "Try using .loc[row_indexer,col_indexer] = value instead\n",
      "\n",
      "See the caveats in the documentation: http://pandas.pydata.org/pandas-docs/stable/indexing.html#indexing-view-versus-copy\n",
      "  after removing the cwd from sys.path.\n",
      "C:\\Users\\user\\Anaconda3\\lib\\site-packages\\ipykernel_launcher.py:5: SettingWithCopyWarning: \n",
      "A value is trying to be set on a copy of a slice from a DataFrame.\n",
      "Try using .loc[row_indexer,col_indexer] = value instead\n",
      "\n",
      "See the caveats in the documentation: http://pandas.pydata.org/pandas-docs/stable/indexing.html#indexing-view-versus-copy\n",
      "  \"\"\"\n"
     ]
    }
   ],
   "source": [
    "health_data['dep']=health_data['depression'].replace(2,0)\n",
    "health_data['hrt_attack']=health_data['heart_attack'].replace(2,0)\n",
    "health_data['blood_pressur']=health_data['blood_pressure'].replace([2,3],0)\n",
    "health_data['blood_pressu']=health_data['blood_pressur'].replace(4,1)\n",
    "health_data['blood_press']=health_data['blood_pressu'].replace(1,2)"
   ]
  },
  {
   "cell_type": "code",
   "execution_count": 21,
   "metadata": {},
   "outputs": [],
   "source": [
    "health_data_clean=health_data[['badhealth','hrt_attack', 'dep', 'badsupport','financial_security','blood_press'\n",
    "                              ]].replace([7,8,9],np.NaN)"
   ]
  },
  {
   "cell_type": "code",
   "execution_count": 27,
   "metadata": {},
   "outputs": [],
   "source": [
    "health_data_new = pd.concat([health_data_clean,health_data['age']])"
   ]
  },
  {
   "cell_type": "markdown",
   "metadata": {},
   "source": [
    "Missing values are an issue, but I treated it in the last assignment. There do not seem to be any outliers or weird values influencing the data set either\n",
    "### Describing the data\n",
    "First, summary stats"
   ]
  },
  {
   "cell_type": "code",
   "execution_count": 35,
   "metadata": {},
   "outputs": [
    {
     "data": {
      "text/html": [
       "<div>\n",
       "<style scoped>\n",
       "    .dataframe tbody tr th:only-of-type {\n",
       "        vertical-align: middle;\n",
       "    }\n",
       "\n",
       "    .dataframe tbody tr th {\n",
       "        vertical-align: top;\n",
       "    }\n",
       "\n",
       "    .dataframe thead th {\n",
       "        text-align: right;\n",
       "    }\n",
       "</style>\n",
       "<table border=\"1\" class=\"dataframe\">\n",
       "  <thead>\n",
       "    <tr style=\"text-align: right;\">\n",
       "      <th></th>\n",
       "      <th>badhealth</th>\n",
       "      <th>hrt_attack</th>\n",
       "      <th>dep</th>\n",
       "      <th>badsupport</th>\n",
       "      <th>financial_security</th>\n",
       "      <th>blood_press</th>\n",
       "      <th>0</th>\n",
       "    </tr>\n",
       "  </thead>\n",
       "  <tbody>\n",
       "    <tr>\n",
       "      <th>count</th>\n",
       "      <td>440209.000000</td>\n",
       "      <td>439227.000000</td>\n",
       "      <td>439259.000000</td>\n",
       "      <td>19733.000000</td>\n",
       "      <td>68196.000000</td>\n",
       "      <td>440089.000000</td>\n",
       "      <td>441456.000000</td>\n",
       "    </tr>\n",
       "    <tr>\n",
       "      <th>mean</th>\n",
       "      <td>2.564259</td>\n",
       "      <td>0.057993</td>\n",
       "      <td>0.190749</td>\n",
       "      <td>1.725587</td>\n",
       "      <td>4.044533</td>\n",
       "      <td>0.829378</td>\n",
       "      <td>55.409943</td>\n",
       "    </tr>\n",
       "    <tr>\n",
       "      <th>std</th>\n",
       "      <td>1.084004</td>\n",
       "      <td>0.233730</td>\n",
       "      <td>0.392892</td>\n",
       "      <td>1.005233</td>\n",
       "      <td>1.294145</td>\n",
       "      <td>0.985338</td>\n",
       "      <td>17.041646</td>\n",
       "    </tr>\n",
       "    <tr>\n",
       "      <th>min</th>\n",
       "      <td>1.000000</td>\n",
       "      <td>0.000000</td>\n",
       "      <td>0.000000</td>\n",
       "      <td>1.000000</td>\n",
       "      <td>1.000000</td>\n",
       "      <td>0.000000</td>\n",
       "      <td>18.000000</td>\n",
       "    </tr>\n",
       "    <tr>\n",
       "      <th>25%</th>\n",
       "      <td>2.000000</td>\n",
       "      <td>0.000000</td>\n",
       "      <td>0.000000</td>\n",
       "      <td>1.000000</td>\n",
       "      <td>3.000000</td>\n",
       "      <td>0.000000</td>\n",
       "      <td>43.000000</td>\n",
       "    </tr>\n",
       "    <tr>\n",
       "      <th>50%</th>\n",
       "      <td>2.000000</td>\n",
       "      <td>0.000000</td>\n",
       "      <td>0.000000</td>\n",
       "      <td>1.000000</td>\n",
       "      <td>5.000000</td>\n",
       "      <td>0.000000</td>\n",
       "      <td>58.000000</td>\n",
       "    </tr>\n",
       "    <tr>\n",
       "      <th>75%</th>\n",
       "      <td>3.000000</td>\n",
       "      <td>0.000000</td>\n",
       "      <td>0.000000</td>\n",
       "      <td>2.000000</td>\n",
       "      <td>5.000000</td>\n",
       "      <td>2.000000</td>\n",
       "      <td>69.000000</td>\n",
       "    </tr>\n",
       "    <tr>\n",
       "      <th>max</th>\n",
       "      <td>5.000000</td>\n",
       "      <td>1.000000</td>\n",
       "      <td>1.000000</td>\n",
       "      <td>5.000000</td>\n",
       "      <td>5.000000</td>\n",
       "      <td>2.000000</td>\n",
       "      <td>80.000000</td>\n",
       "    </tr>\n",
       "  </tbody>\n",
       "</table>\n",
       "</div>"
      ],
      "text/plain": [
       "           badhealth     hrt_attack            dep    badsupport  \\\n",
       "count  440209.000000  439227.000000  439259.000000  19733.000000   \n",
       "mean        2.564259       0.057993       0.190749      1.725587   \n",
       "std         1.084004       0.233730       0.392892      1.005233   \n",
       "min         1.000000       0.000000       0.000000      1.000000   \n",
       "25%         2.000000       0.000000       0.000000      1.000000   \n",
       "50%         2.000000       0.000000       0.000000      1.000000   \n",
       "75%         3.000000       0.000000       0.000000      2.000000   \n",
       "max         5.000000       1.000000       1.000000      5.000000   \n",
       "\n",
       "       financial_security    blood_press              0  \n",
       "count        68196.000000  440089.000000  441456.000000  \n",
       "mean             4.044533       0.829378      55.409943  \n",
       "std              1.294145       0.985338      17.041646  \n",
       "min              1.000000       0.000000      18.000000  \n",
       "25%              3.000000       0.000000      43.000000  \n",
       "50%              5.000000       0.000000      58.000000  \n",
       "75%              5.000000       2.000000      69.000000  \n",
       "max              5.000000       2.000000      80.000000  "
      ]
     },
     "execution_count": 35,
     "metadata": {},
     "output_type": "execute_result"
    }
   ],
   "source": [
    "health_data_new.describe()"
   ]
  },
  {
   "cell_type": "code",
   "execution_count": 36,
   "metadata": {},
   "outputs": [
    {
     "data": {
      "text/html": [
       "<div>\n",
       "<style scoped>\n",
       "    .dataframe tbody tr th:only-of-type {\n",
       "        vertical-align: middle;\n",
       "    }\n",
       "\n",
       "    .dataframe tbody tr th {\n",
       "        vertical-align: top;\n",
       "    }\n",
       "\n",
       "    .dataframe thead th {\n",
       "        text-align: right;\n",
       "    }\n",
       "</style>\n",
       "<table border=\"1\" class=\"dataframe\">\n",
       "  <thead>\n",
       "    <tr style=\"text-align: right;\">\n",
       "      <th></th>\n",
       "      <th>badhealth</th>\n",
       "      <th>hrt_attack</th>\n",
       "      <th>dep</th>\n",
       "      <th>badsupport</th>\n",
       "      <th>financial_security</th>\n",
       "      <th>blood_press</th>\n",
       "      <th>0</th>\n",
       "    </tr>\n",
       "  </thead>\n",
       "  <tbody>\n",
       "    <tr>\n",
       "      <th>badhealth</th>\n",
       "      <td>1.000000</td>\n",
       "      <td>0.207499</td>\n",
       "      <td>0.237581</td>\n",
       "      <td>0.209916</td>\n",
       "      <td>-0.259961</td>\n",
       "      <td>0.291175</td>\n",
       "      <td>NaN</td>\n",
       "    </tr>\n",
       "    <tr>\n",
       "      <th>hrt_attack</th>\n",
       "      <td>0.207499</td>\n",
       "      <td>1.000000</td>\n",
       "      <td>0.052384</td>\n",
       "      <td>0.032866</td>\n",
       "      <td>-0.050458</td>\n",
       "      <td>0.168481</td>\n",
       "      <td>NaN</td>\n",
       "    </tr>\n",
       "    <tr>\n",
       "      <th>dep</th>\n",
       "      <td>0.237581</td>\n",
       "      <td>0.052384</td>\n",
       "      <td>1.000000</td>\n",
       "      <td>0.189448</td>\n",
       "      <td>-0.253430</td>\n",
       "      <td>0.071545</td>\n",
       "      <td>NaN</td>\n",
       "    </tr>\n",
       "    <tr>\n",
       "      <th>badsupport</th>\n",
       "      <td>0.209916</td>\n",
       "      <td>0.032866</td>\n",
       "      <td>0.189448</td>\n",
       "      <td>1.000000</td>\n",
       "      <td>-0.241734</td>\n",
       "      <td>0.030569</td>\n",
       "      <td>NaN</td>\n",
       "    </tr>\n",
       "    <tr>\n",
       "      <th>financial_security</th>\n",
       "      <td>-0.259961</td>\n",
       "      <td>-0.050458</td>\n",
       "      <td>-0.253430</td>\n",
       "      <td>-0.241734</td>\n",
       "      <td>1.000000</td>\n",
       "      <td>-0.032708</td>\n",
       "      <td>NaN</td>\n",
       "    </tr>\n",
       "    <tr>\n",
       "      <th>blood_press</th>\n",
       "      <td>0.291175</td>\n",
       "      <td>0.168481</td>\n",
       "      <td>0.071545</td>\n",
       "      <td>0.030569</td>\n",
       "      <td>-0.032708</td>\n",
       "      <td>1.000000</td>\n",
       "      <td>NaN</td>\n",
       "    </tr>\n",
       "    <tr>\n",
       "      <th>0</th>\n",
       "      <td>NaN</td>\n",
       "      <td>NaN</td>\n",
       "      <td>NaN</td>\n",
       "      <td>NaN</td>\n",
       "      <td>NaN</td>\n",
       "      <td>NaN</td>\n",
       "      <td>1.0</td>\n",
       "    </tr>\n",
       "  </tbody>\n",
       "</table>\n",
       "</div>"
      ],
      "text/plain": [
       "                    badhealth  hrt_attack       dep  badsupport  \\\n",
       "badhealth            1.000000    0.207499  0.237581    0.209916   \n",
       "hrt_attack           0.207499    1.000000  0.052384    0.032866   \n",
       "dep                  0.237581    0.052384  1.000000    0.189448   \n",
       "badsupport           0.209916    0.032866  0.189448    1.000000   \n",
       "financial_security  -0.259961   -0.050458 -0.253430   -0.241734   \n",
       "blood_press          0.291175    0.168481  0.071545    0.030569   \n",
       "0                         NaN         NaN       NaN         NaN   \n",
       "\n",
       "                    financial_security  blood_press    0  \n",
       "badhealth                    -0.259961     0.291175  NaN  \n",
       "hrt_attack                   -0.050458     0.168481  NaN  \n",
       "dep                          -0.253430     0.071545  NaN  \n",
       "badsupport                   -0.241734     0.030569  NaN  \n",
       "financial_security            1.000000    -0.032708  NaN  \n",
       "blood_press                  -0.032708     1.000000  NaN  \n",
       "0                                  NaN          NaN  1.0  "
      ]
     },
     "execution_count": 36,
     "metadata": {},
     "output_type": "execute_result"
    }
   ],
   "source": [
    "health_data_new.corr()"
   ]
  },
  {
   "cell_type": "markdown",
   "metadata": {},
   "source": [
    "Correlations show that people with bad health tend to have heart attacks, depression, bad support, low financial security, <br>\n",
    "and high blood pressure. <br>\n",
    "Interestingly, social support is correlated with subjective reports but only very weakly correlated with objective accounts\n",
    "<br> of high blood pressure. Same goes with financial security"
   ]
  },
  {
   "cell_type": "code",
   "execution_count": 39,
   "metadata": {},
   "outputs": [
    {
     "name": "stderr",
     "output_type": "stream",
     "text": [
      "C:\\Users\\user\\Anaconda3\\lib\\site-packages\\scipy\\stats\\stats.py:1713: FutureWarning: Using a non-tuple sequence for multidimensional indexing is deprecated; use `arr[tuple(seq)]` instead of `arr[seq]`. In the future this will be interpreted as an array index, `arr[np.array(seq)]`, which will result either in an error or a different result.\n",
      "  return np.add.reduce(sorted[indexer] * weights, axis=axis) / sumval\n"
     ]
    },
    {
     "data": {
      "text/plain": [
       "<matplotlib.axes._subplots.AxesSubplot at 0x18ca441c5f8>"
      ]
     },
     "execution_count": 39,
     "metadata": {},
     "output_type": "execute_result"
    }
   ],
   "source": [
    "import seaborn as sns\n"
   ]
  },
  {
   "cell_type": "code",
   "execution_count": 41,
   "metadata": {},
   "outputs": [
    {
     "data": {
      "text/plain": [
       "<matplotlib.axes._subplots.AxesSubplot at 0x18c9ee6a320>"
      ]
     },
     "execution_count": 41,
     "metadata": {},
     "output_type": "execute_result"
    },
    {
     "data": {
      "image/png": "[encoded data removed]",
      "text/plain": [
       "<Figure size 432x288 with 1 Axes>"
      ]
     },
     "metadata": {
      "needs_background": "light"
     },
     "output_type": "display_data"
    }
   ],
   "source": [
    "sns.barplot(health_data_new['blood_press'],health_data_new['badhealth'])\n"
   ]
  },
  {
   "cell_type": "code",
   "execution_count": null,
   "metadata": {},
   "outputs": [],
   "source": [
    "sns.barplot(health_data_new['hrt_attack'],health_data_new['badhealth'])\n"
   ]
  },
  {
   "cell_type": "code",
   "execution_count": null,
   "metadata": {},
   "outputs": [],
   "source": [
    "sns.lmplot(x=\"badsupport\", y=\"dep\", data=bike_frame_open)\n"
   ]
  },
  {
   "cell_type": "code",
   "execution_count": null,
   "metadata": {},
   "outputs": [],
   "source": []
  }
 ],
 "metadata": {
  "kernelspec": {
   "display_name": "Python 3",
   "language": "python",
   "name": "python3"
  },
  "language_info": {
   "codemirror_mode": {
    "name": "ipython",
    "version": 3
   },
   "file_extension": ".py",
   "mimetype": "text/x-python",
   "name": "python",
   "nbconvert_exporter": "python",
   "pygments_lexer": "ipython3",
   "version": "3.7.1"
  }
 },
 "nbformat": 4,
 "nbformat_minor": 2
}
