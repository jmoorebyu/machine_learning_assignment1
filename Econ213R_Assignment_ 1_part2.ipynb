{
 "cells": [
  {
   "cell_type": "markdown",
   "metadata": {},
   "source": [
    "## Toronto Bikes JSON"
   ]
  },
  {
   "cell_type": "code",
   "execution_count": 1,
   "metadata": {},
   "outputs": [],
   "source": [
    "import pandas as pd, requests, json, numpy as np, seaborn as sns"
   ]
  },
  {
   "cell_type": "markdown",
   "metadata": {},
   "source": [
    "#### Read In\n",
    "Getting bike data from online JSON"
   ]
  },
  {
   "cell_type": "code",
   "execution_count": 273,
   "metadata": {},
   "outputs": [],
   "source": [
    "\n",
    "bike_request = requests.get(\"https://tor.publicbikesystem.net/ube/gbfs/v1/en/station_status\")\n",
    "bike_dict= json.loads(bike_request.text)\n",
    "stations_dict=bike_dict['data']['stations']\n",
    "bike_frame = pd.DataFrame.from_dict(stations_dict)\n"
   ]
  },
  {
   "cell_type": "markdown",
   "metadata": {},
   "source": [
    "#### Cleaning\n",
    "First, let's look at summary statistics of the data to examine potential problems. It seems that most values are reasonable. There may be outliers but we'll look at that later. A few variables are categorical but they already are 0's and 1's and the variable names are pretty intuitive, so we'll just leave them.\n",
    "###### Missing Data\n",
    "All columns have 363 observations, so it looks like there is no missing data"
   ]
  },
  {
   "cell_type": "code",
   "execution_count": 274,
   "metadata": {},
   "outputs": [
    {
     "data": {
      "text/html": [
       "<div>\n",
       "<style scoped>\n",
       "    .dataframe tbody tr th:only-of-type {\n",
       "        vertical-align: middle;\n",
       "    }\n",
       "\n",
       "    .dataframe tbody tr th {\n",
       "        vertical-align: top;\n",
       "    }\n",
       "\n",
       "    .dataframe thead th {\n",
       "        text-align: right;\n",
       "    }\n",
       "</style>\n",
       "<table border=\"1\" class=\"dataframe\">\n",
       "  <thead>\n",
       "    <tr style=\"text-align: right;\">\n",
       "      <th></th>\n",
       "      <th>is_installed</th>\n",
       "      <th>is_renting</th>\n",
       "      <th>is_returning</th>\n",
       "      <th>last_reported</th>\n",
       "      <th>num_bikes_available</th>\n",
       "      <th>num_bikes_disabled</th>\n",
       "      <th>num_docks_available</th>\n",
       "      <th>num_docks_disabled</th>\n",
       "    </tr>\n",
       "  </thead>\n",
       "  <tbody>\n",
       "    <tr>\n",
       "      <th>count</th>\n",
       "      <td>363.00</td>\n",
       "      <td>363.00</td>\n",
       "      <td>363.00</td>\n",
       "      <td>3.630000e+02</td>\n",
       "      <td>363.00</td>\n",
       "      <td>363.00</td>\n",
       "      <td>363.00</td>\n",
       "      <td>363.00</td>\n",
       "    </tr>\n",
       "    <tr>\n",
       "      <th>mean</th>\n",
       "      <td>0.99</td>\n",
       "      <td>0.99</td>\n",
       "      <td>0.99</td>\n",
       "      <td>1.527632e+09</td>\n",
       "      <td>7.68</td>\n",
       "      <td>0.34</td>\n",
       "      <td>8.90</td>\n",
       "      <td>0.09</td>\n",
       "    </tr>\n",
       "    <tr>\n",
       "      <th>std</th>\n",
       "      <td>0.07</td>\n",
       "      <td>0.12</td>\n",
       "      <td>0.12</td>\n",
       "      <td>1.807846e+08</td>\n",
       "      <td>5.75</td>\n",
       "      <td>0.55</td>\n",
       "      <td>5.27</td>\n",
       "      <td>0.31</td>\n",
       "    </tr>\n",
       "    <tr>\n",
       "      <th>min</th>\n",
       "      <td>0.00</td>\n",
       "      <td>0.00</td>\n",
       "      <td>0.00</td>\n",
       "      <td>0.000000e+00</td>\n",
       "      <td>0.00</td>\n",
       "      <td>0.00</td>\n",
       "      <td>0.00</td>\n",
       "      <td>0.00</td>\n",
       "    </tr>\n",
       "    <tr>\n",
       "      <th>25%</th>\n",
       "      <td>1.00</td>\n",
       "      <td>1.00</td>\n",
       "      <td>1.00</td>\n",
       "      <td>1.548969e+09</td>\n",
       "      <td>3.00</td>\n",
       "      <td>0.00</td>\n",
       "      <td>5.00</td>\n",
       "      <td>0.00</td>\n",
       "    </tr>\n",
       "    <tr>\n",
       "      <th>50%</th>\n",
       "      <td>1.00</td>\n",
       "      <td>1.00</td>\n",
       "      <td>1.00</td>\n",
       "      <td>1.548969e+09</td>\n",
       "      <td>7.00</td>\n",
       "      <td>0.00</td>\n",
       "      <td>8.00</td>\n",
       "      <td>0.00</td>\n",
       "    </tr>\n",
       "    <tr>\n",
       "      <th>75%</th>\n",
       "      <td>1.00</td>\n",
       "      <td>1.00</td>\n",
       "      <td>1.00</td>\n",
       "      <td>1.548969e+09</td>\n",
       "      <td>11.00</td>\n",
       "      <td>1.00</td>\n",
       "      <td>12.00</td>\n",
       "      <td>0.00</td>\n",
       "    </tr>\n",
       "    <tr>\n",
       "      <th>max</th>\n",
       "      <td>1.00</td>\n",
       "      <td>1.00</td>\n",
       "      <td>1.00</td>\n",
       "      <td>1.548969e+09</td>\n",
       "      <td>38.00</td>\n",
       "      <td>2.00</td>\n",
       "      <td>28.00</td>\n",
       "      <td>2.00</td>\n",
       "    </tr>\n",
       "  </tbody>\n",
       "</table>\n",
       "</div>"
      ],
      "text/plain": [
       "       is_installed  is_renting  is_returning  last_reported  \\\n",
       "count        363.00      363.00        363.00   3.630000e+02   \n",
       "mean           0.99        0.99          0.99   1.527632e+09   \n",
       "std            0.07        0.12          0.12   1.807846e+08   \n",
       "min            0.00        0.00          0.00   0.000000e+00   \n",
       "25%            1.00        1.00          1.00   1.548969e+09   \n",
       "50%            1.00        1.00          1.00   1.548969e+09   \n",
       "75%            1.00        1.00          1.00   1.548969e+09   \n",
       "max            1.00        1.00          1.00   1.548969e+09   \n",
       "\n",
       "       num_bikes_available  num_bikes_disabled  num_docks_available  \\\n",
       "count               363.00              363.00               363.00   \n",
       "mean                  7.68                0.34                 8.90   \n",
       "std                   5.75                0.55                 5.27   \n",
       "min                   0.00                0.00                 0.00   \n",
       "25%                   3.00                0.00                 5.00   \n",
       "50%                   7.00                0.00                 8.00   \n",
       "75%                  11.00                1.00                12.00   \n",
       "max                  38.00                2.00                28.00   \n",
       "\n",
       "       num_docks_disabled  \n",
       "count              363.00  \n",
       "mean                 0.09  \n",
       "std                  0.31  \n",
       "min                  0.00  \n",
       "25%                  0.00  \n",
       "50%                  0.00  \n",
       "75%                  0.00  \n",
       "max                  2.00  "
      ]
     },
     "execution_count": 274,
     "metadata": {},
     "output_type": "execute_result"
    }
   ],
   "source": [
    "bike_frame.describe().round(2)"
   ]
  },
  {
   "cell_type": "markdown",
   "metadata": {},
   "source": [
    "There may be other variables that aren't numerica we want to alter. It looks like there are a few. For consistency, it would probably be helpful to convert is charing station to a boolean. Station_id is probably a simple id variable. Let's look further at the num_bikes_available types variable though."
   ]
  },
  {
   "cell_type": "code",
   "execution_count": 275,
   "metadata": {},
   "outputs": [
    {
     "name": "stdout",
     "output_type": "stream",
     "text": [
      "<class 'pandas.core.frame.DataFrame'>\n",
      "RangeIndex: 363 entries, 0 to 362\n",
      "Data columns (total 11 columns):\n",
      "is_charging_station          363 non-null bool\n",
      "is_installed                 363 non-null int64\n",
      "is_renting                   363 non-null int64\n",
      "is_returning                 363 non-null int64\n",
      "last_reported                363 non-null int64\n",
      "num_bikes_available          363 non-null int64\n",
      "num_bikes_available_types    363 non-null object\n",
      "num_bikes_disabled           363 non-null int64\n",
      "num_docks_available          363 non-null int64\n",
      "num_docks_disabled           363 non-null int64\n",
      "station_id                   363 non-null object\n",
      "dtypes: bool(1), int64(8), object(2)\n",
      "memory usage: 28.8+ KB\n"
     ]
    }
   ],
   "source": [
    "bike_frame.info()"
   ]
  },
  {
   "cell_type": "code",
   "execution_count": 276,
   "metadata": {},
   "outputs": [
    {
     "data": {
      "text/html": [
       "<div>\n",
       "<style scoped>\n",
       "    .dataframe tbody tr th:only-of-type {\n",
       "        vertical-align: middle;\n",
       "    }\n",
       "\n",
       "    .dataframe tbody tr th {\n",
       "        vertical-align: top;\n",
       "    }\n",
       "\n",
       "    .dataframe thead th {\n",
       "        text-align: right;\n",
       "    }\n",
       "</style>\n",
       "<table border=\"1\" class=\"dataframe\">\n",
       "  <thead>\n",
       "    <tr style=\"text-align: right;\">\n",
       "      <th></th>\n",
       "      <th>is_charging_station</th>\n",
       "      <th>is_installed</th>\n",
       "      <th>is_renting</th>\n",
       "      <th>is_returning</th>\n",
       "      <th>last_reported</th>\n",
       "      <th>num_bikes_available</th>\n",
       "      <th>num_bikes_disabled</th>\n",
       "      <th>num_docks_available</th>\n",
       "      <th>num_docks_disabled</th>\n",
       "    </tr>\n",
       "  </thead>\n",
       "  <tbody>\n",
       "    <tr>\n",
       "      <th>count</th>\n",
       "      <td>363.0</td>\n",
       "      <td>363.000000</td>\n",
       "      <td>363.000000</td>\n",
       "      <td>363.000000</td>\n",
       "      <td>3.630000e+02</td>\n",
       "      <td>363.000000</td>\n",
       "      <td>363.000000</td>\n",
       "      <td>363.000000</td>\n",
       "      <td>363.000000</td>\n",
       "    </tr>\n",
       "    <tr>\n",
       "      <th>mean</th>\n",
       "      <td>0.0</td>\n",
       "      <td>0.994490</td>\n",
       "      <td>0.986226</td>\n",
       "      <td>0.986226</td>\n",
       "      <td>1.527632e+09</td>\n",
       "      <td>7.683196</td>\n",
       "      <td>0.344353</td>\n",
       "      <td>8.898072</td>\n",
       "      <td>0.088154</td>\n",
       "    </tr>\n",
       "    <tr>\n",
       "      <th>std</th>\n",
       "      <td>0.0</td>\n",
       "      <td>0.074124</td>\n",
       "      <td>0.116713</td>\n",
       "      <td>0.116713</td>\n",
       "      <td>1.807846e+08</td>\n",
       "      <td>5.750467</td>\n",
       "      <td>0.551131</td>\n",
       "      <td>5.270377</td>\n",
       "      <td>0.311737</td>\n",
       "    </tr>\n",
       "    <tr>\n",
       "      <th>min</th>\n",
       "      <td>0.0</td>\n",
       "      <td>0.000000</td>\n",
       "      <td>0.000000</td>\n",
       "      <td>0.000000</td>\n",
       "      <td>0.000000e+00</td>\n",
       "      <td>0.000000</td>\n",
       "      <td>0.000000</td>\n",
       "      <td>0.000000</td>\n",
       "      <td>0.000000</td>\n",
       "    </tr>\n",
       "    <tr>\n",
       "      <th>25%</th>\n",
       "      <td>0.0</td>\n",
       "      <td>1.000000</td>\n",
       "      <td>1.000000</td>\n",
       "      <td>1.000000</td>\n",
       "      <td>1.548969e+09</td>\n",
       "      <td>3.000000</td>\n",
       "      <td>0.000000</td>\n",
       "      <td>5.000000</td>\n",
       "      <td>0.000000</td>\n",
       "    </tr>\n",
       "    <tr>\n",
       "      <th>50%</th>\n",
       "      <td>0.0</td>\n",
       "      <td>1.000000</td>\n",
       "      <td>1.000000</td>\n",
       "      <td>1.000000</td>\n",
       "      <td>1.548969e+09</td>\n",
       "      <td>7.000000</td>\n",
       "      <td>0.000000</td>\n",
       "      <td>8.000000</td>\n",
       "      <td>0.000000</td>\n",
       "    </tr>\n",
       "    <tr>\n",
       "      <th>75%</th>\n",
       "      <td>0.0</td>\n",
       "      <td>1.000000</td>\n",
       "      <td>1.000000</td>\n",
       "      <td>1.000000</td>\n",
       "      <td>1.548969e+09</td>\n",
       "      <td>11.000000</td>\n",
       "      <td>1.000000</td>\n",
       "      <td>12.000000</td>\n",
       "      <td>0.000000</td>\n",
       "    </tr>\n",
       "    <tr>\n",
       "      <th>max</th>\n",
       "      <td>0.0</td>\n",
       "      <td>1.000000</td>\n",
       "      <td>1.000000</td>\n",
       "      <td>1.000000</td>\n",
       "      <td>1.548969e+09</td>\n",
       "      <td>38.000000</td>\n",
       "      <td>2.000000</td>\n",
       "      <td>28.000000</td>\n",
       "      <td>2.000000</td>\n",
       "    </tr>\n",
       "  </tbody>\n",
       "</table>\n",
       "</div>"
      ],
      "text/plain": [
       "       is_charging_station  is_installed  is_renting  is_returning  \\\n",
       "count                363.0    363.000000  363.000000    363.000000   \n",
       "mean                   0.0      0.994490    0.986226      0.986226   \n",
       "std                    0.0      0.074124    0.116713      0.116713   \n",
       "min                    0.0      0.000000    0.000000      0.000000   \n",
       "25%                    0.0      1.000000    1.000000      1.000000   \n",
       "50%                    0.0      1.000000    1.000000      1.000000   \n",
       "75%                    0.0      1.000000    1.000000      1.000000   \n",
       "max                    0.0      1.000000    1.000000      1.000000   \n",
       "\n",
       "       last_reported  num_bikes_available  num_bikes_disabled  \\\n",
       "count   3.630000e+02           363.000000          363.000000   \n",
       "mean    1.527632e+09             7.683196            0.344353   \n",
       "std     1.807846e+08             5.750467            0.551131   \n",
       "min     0.000000e+00             0.000000            0.000000   \n",
       "25%     1.548969e+09             3.000000            0.000000   \n",
       "50%     1.548969e+09             7.000000            0.000000   \n",
       "75%     1.548969e+09            11.000000            1.000000   \n",
       "max     1.548969e+09            38.000000            2.000000   \n",
       "\n",
       "       num_docks_available  num_docks_disabled  \n",
       "count           363.000000          363.000000  \n",
       "mean              8.898072            0.088154  \n",
       "std               5.270377            0.311737  \n",
       "min               0.000000            0.000000  \n",
       "25%               5.000000            0.000000  \n",
       "50%               8.000000            0.000000  \n",
       "75%              12.000000            0.000000  \n",
       "max              28.000000            2.000000  "
      ]
     },
     "execution_count": 276,
     "metadata": {},
     "output_type": "execute_result"
    }
   ],
   "source": [
    "bike_frame['is_charging_station'] = bike_frame.is_charging_station.astype('int64')\n",
    "bike_frame.describe()"
   ]
  },
  {
   "cell_type": "markdown",
   "metadata": {},
   "source": [
    "Looks like this contains additional information: how many e-bikes and mechanical bikes. Let's try to get these as separate variables"
   ]
  },
  {
   "cell_type": "code",
   "execution_count": 277,
   "metadata": {},
   "outputs": [
    {
     "data": {
      "text/plain": [
       "0     {'mechanical': 9, 'ebike': 0}\n",
       "1    {'mechanical': 11, 'ebike': 0}\n",
       "2     {'mechanical': 4, 'ebike': 0}\n",
       "3     {'mechanical': 0, 'ebike': 0}\n",
       "4     {'mechanical': 2, 'ebike': 0}\n",
       "Name: num_bikes_available_types, dtype: object"
      ]
     },
     "execution_count": 277,
     "metadata": {},
     "output_type": "execute_result"
    }
   ],
   "source": [
    "bike_frame[\"num_bikes_available_types\"].head()"
   ]
  },
  {
   "cell_type": "code",
   "execution_count": 278,
   "metadata": {},
   "outputs": [],
   "source": [
    "df = pd.DataFrame({'ebike': [bike_frame.num_bikes_available_types[0]['ebike']]})\n",
    "shortened = bike_frame.num_bikes_available_types[1:len(bike_frame.num_bikes_available_types)]\n",
    "for  idx in range(1,len(shortened)+1):\n",
    "    test = pd.DataFrame({'ebike': [shortened[idx]['ebike']]})\n",
    "    df = pd.concat([df,test])\n",
    "    \n",
    "df2 = pd.DataFrame({'mechanical': [bike_frame.num_bikes_available_types[0]['mechanical']]})\n",
    "shortened = bike_frame.num_bikes_available_types[1:len(bike_frame.num_bikes_available_types)]\n",
    "for  idx in range(1,len(shortened)+1):\n",
    "    test = pd.DataFrame({'mechanical': [shortened[idx]['mechanical']]})\n",
    "    df2 = pd.concat([df2,test])\n",
    "    \n",
    "    \n",
    " "
   ]
  },
  {
   "cell_type": "code",
   "execution_count": 279,
   "metadata": {},
   "outputs": [],
   "source": [
    "df= pd.concat([df, df2], axis=1)\n",
    "df= df.reset_index()\n",
    "bike_frame = pd.concat([bike_frame, df], axis=1)\n",
    "bike_frame = bike_frame.drop(columns=['index'])"
   ]
  },
  {
   "cell_type": "markdown",
   "metadata": {},
   "source": [
    "As we look at these variables, it seems like there are no charging station, and there are only mechanical bikes. Additionally, the number of bikes available seems to always refer to mechanical bikes. Perhaps toronto has plans to add this in the future, but for now we can probably remove charging station, ebike, and mechanical from our data"
   ]
  },
  {
   "cell_type": "code",
   "execution_count": 280,
   "metadata": {},
   "outputs": [
    {
     "data": {
      "text/html": [
       "<div>\n",
       "<style scoped>\n",
       "    .dataframe tbody tr th:only-of-type {\n",
       "        vertical-align: middle;\n",
       "    }\n",
       "\n",
       "    .dataframe tbody tr th {\n",
       "        vertical-align: top;\n",
       "    }\n",
       "\n",
       "    .dataframe thead th {\n",
       "        text-align: right;\n",
       "    }\n",
       "</style>\n",
       "<table border=\"1\" class=\"dataframe\">\n",
       "  <thead>\n",
       "    <tr style=\"text-align: right;\">\n",
       "      <th></th>\n",
       "      <th>is_charging_station</th>\n",
       "      <th>is_installed</th>\n",
       "      <th>is_renting</th>\n",
       "      <th>is_returning</th>\n",
       "      <th>last_reported</th>\n",
       "      <th>num_bikes_available</th>\n",
       "      <th>num_bikes_disabled</th>\n",
       "      <th>num_docks_available</th>\n",
       "      <th>num_docks_disabled</th>\n",
       "      <th>ebike</th>\n",
       "      <th>mechanical</th>\n",
       "    </tr>\n",
       "  </thead>\n",
       "  <tbody>\n",
       "    <tr>\n",
       "      <th>count</th>\n",
       "      <td>363.0</td>\n",
       "      <td>363.000000</td>\n",
       "      <td>363.000000</td>\n",
       "      <td>363.000000</td>\n",
       "      <td>3.630000e+02</td>\n",
       "      <td>363.000000</td>\n",
       "      <td>363.000000</td>\n",
       "      <td>363.000000</td>\n",
       "      <td>363.000000</td>\n",
       "      <td>363.0</td>\n",
       "      <td>363.000000</td>\n",
       "    </tr>\n",
       "    <tr>\n",
       "      <th>mean</th>\n",
       "      <td>0.0</td>\n",
       "      <td>0.994490</td>\n",
       "      <td>0.986226</td>\n",
       "      <td>0.986226</td>\n",
       "      <td>1.527632e+09</td>\n",
       "      <td>7.683196</td>\n",
       "      <td>0.344353</td>\n",
       "      <td>8.898072</td>\n",
       "      <td>0.088154</td>\n",
       "      <td>0.0</td>\n",
       "      <td>7.683196</td>\n",
       "    </tr>\n",
       "    <tr>\n",
       "      <th>std</th>\n",
       "      <td>0.0</td>\n",
       "      <td>0.074124</td>\n",
       "      <td>0.116713</td>\n",
       "      <td>0.116713</td>\n",
       "      <td>1.807846e+08</td>\n",
       "      <td>5.750467</td>\n",
       "      <td>0.551131</td>\n",
       "      <td>5.270377</td>\n",
       "      <td>0.311737</td>\n",
       "      <td>0.0</td>\n",
       "      <td>5.750467</td>\n",
       "    </tr>\n",
       "    <tr>\n",
       "      <th>min</th>\n",
       "      <td>0.0</td>\n",
       "      <td>0.000000</td>\n",
       "      <td>0.000000</td>\n",
       "      <td>0.000000</td>\n",
       "      <td>0.000000e+00</td>\n",
       "      <td>0.000000</td>\n",
       "      <td>0.000000</td>\n",
       "      <td>0.000000</td>\n",
       "      <td>0.000000</td>\n",
       "      <td>0.0</td>\n",
       "      <td>0.000000</td>\n",
       "    </tr>\n",
       "    <tr>\n",
       "      <th>25%</th>\n",
       "      <td>0.0</td>\n",
       "      <td>1.000000</td>\n",
       "      <td>1.000000</td>\n",
       "      <td>1.000000</td>\n",
       "      <td>1.548969e+09</td>\n",
       "      <td>3.000000</td>\n",
       "      <td>0.000000</td>\n",
       "      <td>5.000000</td>\n",
       "      <td>0.000000</td>\n",
       "      <td>0.0</td>\n",
       "      <td>3.000000</td>\n",
       "    </tr>\n",
       "    <tr>\n",
       "      <th>50%</th>\n",
       "      <td>0.0</td>\n",
       "      <td>1.000000</td>\n",
       "      <td>1.000000</td>\n",
       "      <td>1.000000</td>\n",
       "      <td>1.548969e+09</td>\n",
       "      <td>7.000000</td>\n",
       "      <td>0.000000</td>\n",
       "      <td>8.000000</td>\n",
       "      <td>0.000000</td>\n",
       "      <td>0.0</td>\n",
       "      <td>7.000000</td>\n",
       "    </tr>\n",
       "    <tr>\n",
       "      <th>75%</th>\n",
       "      <td>0.0</td>\n",
       "      <td>1.000000</td>\n",
       "      <td>1.000000</td>\n",
       "      <td>1.000000</td>\n",
       "      <td>1.548969e+09</td>\n",
       "      <td>11.000000</td>\n",
       "      <td>1.000000</td>\n",
       "      <td>12.000000</td>\n",
       "      <td>0.000000</td>\n",
       "      <td>0.0</td>\n",
       "      <td>11.000000</td>\n",
       "    </tr>\n",
       "    <tr>\n",
       "      <th>max</th>\n",
       "      <td>0.0</td>\n",
       "      <td>1.000000</td>\n",
       "      <td>1.000000</td>\n",
       "      <td>1.000000</td>\n",
       "      <td>1.548969e+09</td>\n",
       "      <td>38.000000</td>\n",
       "      <td>2.000000</td>\n",
       "      <td>28.000000</td>\n",
       "      <td>2.000000</td>\n",
       "      <td>0.0</td>\n",
       "      <td>38.000000</td>\n",
       "    </tr>\n",
       "  </tbody>\n",
       "</table>\n",
       "</div>"
      ],
      "text/plain": [
       "       is_charging_station  is_installed  is_renting  is_returning  \\\n",
       "count                363.0    363.000000  363.000000    363.000000   \n",
       "mean                   0.0      0.994490    0.986226      0.986226   \n",
       "std                    0.0      0.074124    0.116713      0.116713   \n",
       "min                    0.0      0.000000    0.000000      0.000000   \n",
       "25%                    0.0      1.000000    1.000000      1.000000   \n",
       "50%                    0.0      1.000000    1.000000      1.000000   \n",
       "75%                    0.0      1.000000    1.000000      1.000000   \n",
       "max                    0.0      1.000000    1.000000      1.000000   \n",
       "\n",
       "       last_reported  num_bikes_available  num_bikes_disabled  \\\n",
       "count   3.630000e+02           363.000000          363.000000   \n",
       "mean    1.527632e+09             7.683196            0.344353   \n",
       "std     1.807846e+08             5.750467            0.551131   \n",
       "min     0.000000e+00             0.000000            0.000000   \n",
       "25%     1.548969e+09             3.000000            0.000000   \n",
       "50%     1.548969e+09             7.000000            0.000000   \n",
       "75%     1.548969e+09            11.000000            1.000000   \n",
       "max     1.548969e+09            38.000000            2.000000   \n",
       "\n",
       "       num_docks_available  num_docks_disabled  ebike  mechanical  \n",
       "count           363.000000          363.000000  363.0  363.000000  \n",
       "mean              8.898072            0.088154    0.0    7.683196  \n",
       "std               5.270377            0.311737    0.0    5.750467  \n",
       "min               0.000000            0.000000    0.0    0.000000  \n",
       "25%               5.000000            0.000000    0.0    3.000000  \n",
       "50%               8.000000            0.000000    0.0    7.000000  \n",
       "75%              12.000000            0.000000    0.0   11.000000  \n",
       "max              28.000000            2.000000    0.0   38.000000  "
      ]
     },
     "execution_count": 280,
     "metadata": {},
     "output_type": "execute_result"
    }
   ],
   "source": [
    "bike_frame.describe()"
   ]
  },
  {
   "cell_type": "code",
   "execution_count": 281,
   "metadata": {},
   "outputs": [
    {
     "name": "stdout",
     "output_type": "stream",
     "text": [
      "100.0 %\n"
     ]
    }
   ],
   "source": [
    "#What percent of the bikes avaialble variables match the number of mechanical bikes available. \n",
    "print(np.mean(bike_frame['num_bikes_available']==bike_frame['mechanical'])*100, \"%\")"
   ]
  },
  {
   "cell_type": "code",
   "execution_count": 282,
   "metadata": {},
   "outputs": [],
   "source": [
    "bike_frame = bike_frame.drop(columns=['is_charging_station', 'mechanical', 'ebike'])"
   ]
  },
  {
   "cell_type": "markdown",
   "metadata": {},
   "source": [
    "Now let's look at each variable for normality and outliers. Looks like reported is a number in minutes originating from some point in time, but that's only a guess. I had to filter the number to keep out some that made it difficult to see the histogram, so I probably want to examine outliers."
   ]
  },
  {
   "cell_type": "code",
   "execution_count": 289,
   "metadata": {},
   "outputs": [
    {
     "data": {
      "text/plain": [
       "<matplotlib.axes._subplots.AxesSubplot at 0x1f2d1cd0d30>"
      ]
     },
     "execution_count": 289,
     "metadata": {},
     "output_type": "execute_result"
    },
    {
     "data": {
      "image/png": "[encoded data removed]",
      "text/plain": [
       "<Figure size 432x288 with 1 Axes>"
      ]
     },
     "metadata": {
      "needs_background": "light"
     },
     "output_type": "display_data"
    }
   ],
   "source": [
    "sns.distplot(bike_frame['last_reported'][bike_frame.last_reported>1548968000], kde=False)"
   ]
  },
  {
   "cell_type": "code",
   "execution_count": 290,
   "metadata": {},
   "outputs": [
    {
     "name": "stdout",
     "output_type": "stream",
     "text": [
      "1548969123.0 1548968573.0\n",
      "True\n",
      "0.0\n",
      "There are 8 outliers\n",
      "159    1.548969e+09\n",
      "242    1.548969e+09\n",
      "278    1.548969e+09\n",
      "297    1.548969e+09\n",
      "313    1.088300e+04\n",
      "338    2.281870e+05\n",
      "351    5.266000e+04\n",
      "361    1.548969e+09\n",
      "Name: last_reported, dtype: float64\n"
     ]
    }
   ],
   "source": [
    "\n",
    "a=bike_frame['last_reported']\n",
    "subj_upbound=2*(a.quantile(.75)-a.quantile(.25))+a.quantile(.50)\n",
    "subj_lowbound=-2*(a.quantile(.75)-a.quantile(.25))+a.quantile(.50)\n",
    "print(subj_upbound, subj_lowbound)\n",
    "print(np.max(bike_frame['last_reported'])<subj_upbound) #looks like our max is less than our upperbound\n",
    "print(bike_frame['last_reported'].quantile(.01)) # but the 1%ile is 0, so we have a few that are zero\n",
    "outliers_reported = bike_frame['last_reported'][bike_frame['last_reported']<subj_lowbound]\n",
    "print(\"There are\", len(outliers_reported), \"outliers\")\n",
    "print(subj_lowbound-outliers_reported)"
   ]
  },
  {
   "cell_type": "markdown",
   "metadata": {},
   "source": [
    "Looks like the outliers are either 0 or else thousands away from the others (which are only hundreds away from each other). We probably want to create a variable that replaces these with the fenced value and try both."
   ]
  },
  {
   "cell_type": "code",
   "execution_count": 291,
   "metadata": {},
   "outputs": [
    {
     "name": "stderr",
     "output_type": "stream",
     "text": [
      "C:\\Users\\user\\Anaconda3\\lib\\site-packages\\ipykernel_launcher.py:2: SettingWithCopyWarning: \n",
      "A value is trying to be set on a copy of a slice from a DataFrame\n",
      "\n",
      "See the caveats in the documentation: http://pandas.pydata.org/pandas-docs/stable/indexing.html#indexing-view-versus-copy\n",
      "  \n"
     ]
    }
   ],
   "source": [
    "bike_frame['fenced_report']=bike_frame['last_reported']\n",
    "bike_frame['fenced_report'][bike_frame['last_reported']<subj_lowbound]=subj_lowbound"
   ]
  },
  {
   "cell_type": "markdown",
   "metadata": {},
   "source": [
    "#### Num_bikes_disabled\n",
    "Looks like all have less than 3 bikes disabled. There aren't really outliers here. "
   ]
  },
  {
   "cell_type": "code",
   "execution_count": 292,
   "metadata": {},
   "outputs": [
    {
     "name": "stderr",
     "output_type": "stream",
     "text": [
      "C:\\Users\\user\\Anaconda3\\lib\\site-packages\\scipy\\stats\\stats.py:1713: FutureWarning: Using a non-tuple sequence for multidimensional indexing is deprecated; use `arr[tuple(seq)]` instead of `arr[seq]`. In the future this will be interpreted as an array index, `arr[np.array(seq)]`, which will result either in an error or a different result.\n",
      "  return np.add.reduce(sorted[indexer] * weights, axis=axis) / sumval\n"
     ]
    },
    {
     "data": {
      "text/plain": [
       "<matplotlib.axes._subplots.AxesSubplot at 0x1f2d18cdc18>"
      ]
     },
     "execution_count": 292,
     "metadata": {},
     "output_type": "execute_result"
    },
    {
     "data": {
      "image/png": "[encoded data removed]",
      "text/plain": [
       "<Figure size 432x288 with 1 Axes>"
      ]
     },
     "metadata": {
      "needs_background": "light"
     },
     "output_type": "display_data"
    }
   ],
   "source": [
    "sns.distplot(bike_frame['num_bikes_disabled'], kde=False)"
   ]
  },
  {
   "cell_type": "markdown",
   "metadata": {},
   "source": [
    "#### Num_docks_disabled\n",
    "Looks like most no docks disabled, but a few have 1 or 2. Fencing would make no sense"
   ]
  },
  {
   "cell_type": "code",
   "execution_count": 294,
   "metadata": {},
   "outputs": [
    {
     "data": {
      "text/plain": [
       "<matplotlib.axes._subplots.AxesSubplot at 0x1f2d1e40748>"
      ]
     },
     "execution_count": 294,
     "metadata": {},
     "output_type": "execute_result"
    },
    {
     "data": {
      "image/png": "[encoded data removed]",
      "text/plain": [
       "<Figure size 432x288 with 1 Axes>"
      ]
     },
     "metadata": {
      "needs_background": "light"
     },
     "output_type": "display_data"
    }
   ],
   "source": [
    "sns.distplot(bike_frame['num_docks_disabled'], kde=False)"
   ]
  },
  {
   "cell_type": "markdown",
   "metadata": {},
   "source": [
    "#### Num_bikes_available\n",
    "Looks quite skewed. We may want to fence the upper outliers, as I don't know if they are qualitatively different from other high bike missing areas. We want both variables in this case"
   ]
  },
  {
   "cell_type": "code",
   "execution_count": 295,
   "metadata": {},
   "outputs": [
    {
     "data": {
      "text/plain": [
       "<matplotlib.axes._subplots.AxesSubplot at 0x1f2d1e1a6d8>"
      ]
     },
     "execution_count": 295,
     "metadata": {},
     "output_type": "execute_result"
    },
    {
     "data": {
      "image/png": "[encoded data removed]",
      "text/plain": [
       "<Figure size 432x288 with 1 Axes>"
      ]
     },
     "metadata": {
      "needs_background": "light"
     },
     "output_type": "display_data"
    }
   ],
   "source": [
    "sns.distplot(bike_frame['num_bikes_available'], kde=False)"
   ]
  },
  {
   "cell_type": "code",
   "execution_count": 296,
   "metadata": {},
   "outputs": [
    {
     "name": "stdout",
     "output_type": "stream",
     "text": [
      "23.0 -9.0\n"
     ]
    },
    {
     "name": "stderr",
     "output_type": "stream",
     "text": [
      "C:\\Users\\user\\Anaconda3\\lib\\site-packages\\ipykernel_launcher.py:6: SettingWithCopyWarning: \n",
      "A value is trying to be set on a copy of a slice from a DataFrame\n",
      "\n",
      "See the caveats in the documentation: http://pandas.pydata.org/pandas-docs/stable/indexing.html#indexing-view-versus-copy\n",
      "  \n"
     ]
    }
   ],
   "source": [
    "a=bike_frame['num_bikes_available']\n",
    "bike_upbound=2*(a.quantile(.75)-a.quantile(.25))+a.quantile(.50)\n",
    "bike_lowbound=-2*(a.quantile(.75)-a.quantile(.25))+a.quantile(.50)\n",
    "print(bike_upbound, bike_lowbound)\n",
    "bike_frame['fenced_bikes']=bike_frame['num_bikes_available']\n",
    "bike_frame['fenced_bikes'][bike_frame['num_bikes_available']>bike_upbound]=bike_upbound"
   ]
  },
  {
   "cell_type": "markdown",
   "metadata": {},
   "source": [
    "#### Number of docks available\n",
    "\n",
    "Based on the histogram, there is a slight skew. There are a few outliers over the high bound, but I think just one is above 23. Let's just fence this one. It shouldn't matter a huge deal thouh"
   ]
  },
  {
   "cell_type": "code",
   "execution_count": 297,
   "metadata": {},
   "outputs": [
    {
     "name": "stderr",
     "output_type": "stream",
     "text": [
      "C:\\Users\\user\\Anaconda3\\lib\\site-packages\\scipy\\stats\\stats.py:1713: FutureWarning: Using a non-tuple sequence for multidimensional indexing is deprecated; use `arr[tuple(seq)]` instead of `arr[seq]`. In the future this will be interpreted as an array index, `arr[np.array(seq)]`, which will result either in an error or a different result.\n",
      "  return np.add.reduce(sorted[indexer] * weights, axis=axis) / sumval\n"
     ]
    },
    {
     "name": "stdout",
     "output_type": "stream",
     "text": [
      "22.0 -6.0\n",
      "23.0\n"
     ]
    },
    {
     "name": "stderr",
     "output_type": "stream",
     "text": [
      "C:\\Users\\user\\Anaconda3\\lib\\site-packages\\ipykernel_launcher.py:8: SettingWithCopyWarning: \n",
      "A value is trying to be set on a copy of a slice from a DataFrame\n",
      "\n",
      "See the caveats in the documentation: http://pandas.pydata.org/pandas-docs/stable/indexing.html#indexing-view-versus-copy\n",
      "  \n"
     ]
    },
    {
     "data": {
      "image/png": "[encoded data removed]",
      "text/plain": [
       "<Figure size 432x288 with 1 Axes>"
      ]
     },
     "metadata": {
      "needs_background": "light"
     },
     "output_type": "display_data"
    }
   ],
   "source": [
    "sns.distplot(bike_frame['num_docks_available'], kde=False)\n",
    "a=bike_frame['num_docks_available']\n",
    "docks_up=2*(a.quantile(.75)-a.quantile(.25))+a.quantile(.50)\n",
    "docks_low=-2*(a.quantile(.75)-a.quantile(.25))+a.quantile(.50)\n",
    "print(docks_up, docks_low)\n",
    "print(bike_frame['num_docks_available'].quantile(.99))\n",
    "bike_frame['fenced_docks']=bike_frame['num_docks_available']\n",
    "bike_frame['fenced_docks'][bike_frame['num_docks_available']>docks_up]=docks_up"
   ]
  },
  {
   "cell_type": "markdown",
   "metadata": {},
   "source": [
    "## Describing Data\n",
    "First, let's just have a simple tale with summary statistics. Of note, the majority of stations are installed and returning and renting, so comparing those that don't may be an interesting table."
   ]
  },
  {
   "cell_type": "code",
   "execution_count": 298,
   "metadata": {},
   "outputs": [
    {
     "data": {
      "text/html": [
       "<div>\n",
       "<style scoped>\n",
       "    .dataframe tbody tr th:only-of-type {\n",
       "        vertical-align: middle;\n",
       "    }\n",
       "\n",
       "    .dataframe tbody tr th {\n",
       "        vertical-align: top;\n",
       "    }\n",
       "\n",
       "    .dataframe thead th {\n",
       "        text-align: right;\n",
       "    }\n",
       "</style>\n",
       "<table border=\"1\" class=\"dataframe\">\n",
       "  <thead>\n",
       "    <tr style=\"text-align: right;\">\n",
       "      <th></th>\n",
       "      <th>is_installed</th>\n",
       "      <th>is_renting</th>\n",
       "      <th>is_returning</th>\n",
       "      <th>last_reported</th>\n",
       "      <th>num_bikes_available</th>\n",
       "      <th>num_bikes_disabled</th>\n",
       "      <th>num_docks_available</th>\n",
       "      <th>num_docks_disabled</th>\n",
       "      <th>fenced_report</th>\n",
       "      <th>fenced_bikes</th>\n",
       "      <th>fenced_docks</th>\n",
       "    </tr>\n",
       "  </thead>\n",
       "  <tbody>\n",
       "    <tr>\n",
       "      <th>count</th>\n",
       "      <td>363.000000</td>\n",
       "      <td>363.000000</td>\n",
       "      <td>363.000000</td>\n",
       "      <td>3.630000e+02</td>\n",
       "      <td>363.000000</td>\n",
       "      <td>363.000000</td>\n",
       "      <td>363.000000</td>\n",
       "      <td>363.000000</td>\n",
       "      <td>3.630000e+02</td>\n",
       "      <td>363.000000</td>\n",
       "      <td>363.000000</td>\n",
       "    </tr>\n",
       "    <tr>\n",
       "      <th>mean</th>\n",
       "      <td>0.994490</td>\n",
       "      <td>0.986226</td>\n",
       "      <td>0.986226</td>\n",
       "      <td>1.527632e+09</td>\n",
       "      <td>7.683196</td>\n",
       "      <td>0.344353</td>\n",
       "      <td>8.898072</td>\n",
       "      <td>0.088154</td>\n",
       "      <td>1.548969e+09</td>\n",
       "      <td>7.581267</td>\n",
       "      <td>8.862259</td>\n",
       "    </tr>\n",
       "    <tr>\n",
       "      <th>std</th>\n",
       "      <td>0.074124</td>\n",
       "      <td>0.116713</td>\n",
       "      <td>0.116713</td>\n",
       "      <td>1.807846e+08</td>\n",
       "      <td>5.750467</td>\n",
       "      <td>0.551131</td>\n",
       "      <td>5.270377</td>\n",
       "      <td>0.311737</td>\n",
       "      <td>8.767252e+01</td>\n",
       "      <td>5.374986</td>\n",
       "      <td>5.168197</td>\n",
       "    </tr>\n",
       "    <tr>\n",
       "      <th>min</th>\n",
       "      <td>0.000000</td>\n",
       "      <td>0.000000</td>\n",
       "      <td>0.000000</td>\n",
       "      <td>0.000000e+00</td>\n",
       "      <td>0.000000</td>\n",
       "      <td>0.000000</td>\n",
       "      <td>0.000000</td>\n",
       "      <td>0.000000</td>\n",
       "      <td>1.548969e+09</td>\n",
       "      <td>0.000000</td>\n",
       "      <td>0.000000</td>\n",
       "    </tr>\n",
       "    <tr>\n",
       "      <th>25%</th>\n",
       "      <td>1.000000</td>\n",
       "      <td>1.000000</td>\n",
       "      <td>1.000000</td>\n",
       "      <td>1.548969e+09</td>\n",
       "      <td>3.000000</td>\n",
       "      <td>0.000000</td>\n",
       "      <td>5.000000</td>\n",
       "      <td>0.000000</td>\n",
       "      <td>1.548969e+09</td>\n",
       "      <td>3.000000</td>\n",
       "      <td>5.000000</td>\n",
       "    </tr>\n",
       "    <tr>\n",
       "      <th>50%</th>\n",
       "      <td>1.000000</td>\n",
       "      <td>1.000000</td>\n",
       "      <td>1.000000</td>\n",
       "      <td>1.548969e+09</td>\n",
       "      <td>7.000000</td>\n",
       "      <td>0.000000</td>\n",
       "      <td>8.000000</td>\n",
       "      <td>0.000000</td>\n",
       "      <td>1.548969e+09</td>\n",
       "      <td>7.000000</td>\n",
       "      <td>8.000000</td>\n",
       "    </tr>\n",
       "    <tr>\n",
       "      <th>75%</th>\n",
       "      <td>1.000000</td>\n",
       "      <td>1.000000</td>\n",
       "      <td>1.000000</td>\n",
       "      <td>1.548969e+09</td>\n",
       "      <td>11.000000</td>\n",
       "      <td>1.000000</td>\n",
       "      <td>12.000000</td>\n",
       "      <td>0.000000</td>\n",
       "      <td>1.548969e+09</td>\n",
       "      <td>11.000000</td>\n",
       "      <td>12.000000</td>\n",
       "    </tr>\n",
       "    <tr>\n",
       "      <th>max</th>\n",
       "      <td>1.000000</td>\n",
       "      <td>1.000000</td>\n",
       "      <td>1.000000</td>\n",
       "      <td>1.548969e+09</td>\n",
       "      <td>38.000000</td>\n",
       "      <td>2.000000</td>\n",
       "      <td>28.000000</td>\n",
       "      <td>2.000000</td>\n",
       "      <td>1.548969e+09</td>\n",
       "      <td>23.000000</td>\n",
       "      <td>22.000000</td>\n",
       "    </tr>\n",
       "  </tbody>\n",
       "</table>\n",
       "</div>"
      ],
      "text/plain": [
       "       is_installed  is_renting  is_returning  last_reported  \\\n",
       "count    363.000000  363.000000    363.000000   3.630000e+02   \n",
       "mean       0.994490    0.986226      0.986226   1.527632e+09   \n",
       "std        0.074124    0.116713      0.116713   1.807846e+08   \n",
       "min        0.000000    0.000000      0.000000   0.000000e+00   \n",
       "25%        1.000000    1.000000      1.000000   1.548969e+09   \n",
       "50%        1.000000    1.000000      1.000000   1.548969e+09   \n",
       "75%        1.000000    1.000000      1.000000   1.548969e+09   \n",
       "max        1.000000    1.000000      1.000000   1.548969e+09   \n",
       "\n",
       "       num_bikes_available  num_bikes_disabled  num_docks_available  \\\n",
       "count           363.000000          363.000000           363.000000   \n",
       "mean              7.683196            0.344353             8.898072   \n",
       "std               5.750467            0.551131             5.270377   \n",
       "min               0.000000            0.000000             0.000000   \n",
       "25%               3.000000            0.000000             5.000000   \n",
       "50%               7.000000            0.000000             8.000000   \n",
       "75%              11.000000            1.000000            12.000000   \n",
       "max              38.000000            2.000000            28.000000   \n",
       "\n",
       "       num_docks_disabled  fenced_report  fenced_bikes  fenced_docks  \n",
       "count          363.000000   3.630000e+02    363.000000    363.000000  \n",
       "mean             0.088154   1.548969e+09      7.581267      8.862259  \n",
       "std              0.311737   8.767252e+01      5.374986      5.168197  \n",
       "min              0.000000   1.548969e+09      0.000000      0.000000  \n",
       "25%              0.000000   1.548969e+09      3.000000      5.000000  \n",
       "50%              0.000000   1.548969e+09      7.000000      8.000000  \n",
       "75%              0.000000   1.548969e+09     11.000000     12.000000  \n",
       "max              2.000000   1.548969e+09     23.000000     22.000000  "
      ]
     },
     "execution_count": 298,
     "metadata": {},
     "output_type": "execute_result"
    }
   ],
   "source": [
    "bike_frame.describe()"
   ]
  },
  {
   "cell_type": "code",
   "execution_count": 299,
   "metadata": {},
   "outputs": [
    {
     "data": {
      "text/html": [
       "<div>\n",
       "<style scoped>\n",
       "    .dataframe tbody tr th:only-of-type {\n",
       "        vertical-align: middle;\n",
       "    }\n",
       "\n",
       "    .dataframe tbody tr th {\n",
       "        vertical-align: top;\n",
       "    }\n",
       "\n",
       "    .dataframe thead th {\n",
       "        text-align: right;\n",
       "    }\n",
       "</style>\n",
       "<table border=\"1\" class=\"dataframe\">\n",
       "  <thead>\n",
       "    <tr style=\"text-align: right;\">\n",
       "      <th></th>\n",
       "      <th>num_bikes_available</th>\n",
       "      <th>num_bikes_disabled</th>\n",
       "      <th>num_docks_available</th>\n",
       "      <th>num_docks_disabled</th>\n",
       "      <th>last_reported</th>\n",
       "    </tr>\n",
       "    <tr>\n",
       "      <th>is_installed</th>\n",
       "      <th></th>\n",
       "      <th></th>\n",
       "      <th></th>\n",
       "      <th></th>\n",
       "      <th></th>\n",
       "    </tr>\n",
       "  </thead>\n",
       "  <tbody>\n",
       "    <tr>\n",
       "      <th>0</th>\n",
       "      <td>0.000000</td>\n",
       "      <td>0.00000</td>\n",
       "      <td>0.000000</td>\n",
       "      <td>0.000000</td>\n",
       "      <td>0.000000e+00</td>\n",
       "    </tr>\n",
       "    <tr>\n",
       "      <th>1</th>\n",
       "      <td>7.725762</td>\n",
       "      <td>0.34626</td>\n",
       "      <td>8.947368</td>\n",
       "      <td>0.088643</td>\n",
       "      <td>1.536096e+09</td>\n",
       "    </tr>\n",
       "  </tbody>\n",
       "</table>\n",
       "</div>"
      ],
      "text/plain": [
       "              num_bikes_available  num_bikes_disabled  num_docks_available  \\\n",
       "is_installed                                                                 \n",
       "0                        0.000000             0.00000             0.000000   \n",
       "1                        7.725762             0.34626             8.947368   \n",
       "\n",
       "              num_docks_disabled  last_reported  \n",
       "is_installed                                     \n",
       "0                       0.000000   0.000000e+00  \n",
       "1                       0.088643   1.536096e+09  "
      ]
     },
     "execution_count": 299,
     "metadata": {},
     "output_type": "execute_result"
    }
   ],
   "source": [
    "bike_frame[['num_bikes_available','num_bikes_disabled','num_docks_available','num_docks_disabled', 'last_reported']].groupby(bike_frame['is_installed']).mean()\n"
   ]
  },
  {
   "cell_type": "code",
   "execution_count": 300,
   "metadata": {},
   "outputs": [
    {
     "data": {
      "text/html": [
       "<div>\n",
       "<style scoped>\n",
       "    .dataframe tbody tr th:only-of-type {\n",
       "        vertical-align: middle;\n",
       "    }\n",
       "\n",
       "    .dataframe tbody tr th {\n",
       "        vertical-align: top;\n",
       "    }\n",
       "\n",
       "    .dataframe thead th {\n",
       "        text-align: right;\n",
       "    }\n",
       "</style>\n",
       "<table border=\"1\" class=\"dataframe\">\n",
       "  <thead>\n",
       "    <tr style=\"text-align: right;\">\n",
       "      <th></th>\n",
       "      <th>num_bikes_available</th>\n",
       "      <th>num_bikes_disabled</th>\n",
       "      <th>num_docks_available</th>\n",
       "      <th>num_docks_disabled</th>\n",
       "      <th>last_reported</th>\n",
       "    </tr>\n",
       "    <tr>\n",
       "      <th>is_returning</th>\n",
       "      <th></th>\n",
       "      <th></th>\n",
       "      <th></th>\n",
       "      <th></th>\n",
       "      <th></th>\n",
       "    </tr>\n",
       "  </thead>\n",
       "  <tbody>\n",
       "    <tr>\n",
       "      <th>0</th>\n",
       "      <td>0.000000</td>\n",
       "      <td>0.000000</td>\n",
       "      <td>0.000000</td>\n",
       "      <td>0.000000</td>\n",
       "      <td>0.000000e+00</td>\n",
       "    </tr>\n",
       "    <tr>\n",
       "      <th>1</th>\n",
       "      <td>7.790503</td>\n",
       "      <td>0.349162</td>\n",
       "      <td>9.022346</td>\n",
       "      <td>0.089385</td>\n",
       "      <td>1.548968e+09</td>\n",
       "    </tr>\n",
       "  </tbody>\n",
       "</table>\n",
       "</div>"
      ],
      "text/plain": [
       "              num_bikes_available  num_bikes_disabled  num_docks_available  \\\n",
       "is_returning                                                                 \n",
       "0                        0.000000            0.000000             0.000000   \n",
       "1                        7.790503            0.349162             9.022346   \n",
       "\n",
       "              num_docks_disabled  last_reported  \n",
       "is_returning                                     \n",
       "0                       0.000000   0.000000e+00  \n",
       "1                       0.089385   1.548968e+09  "
      ]
     },
     "execution_count": 300,
     "metadata": {},
     "output_type": "execute_result"
    }
   ],
   "source": [
    "bike_frame[['num_bikes_available','num_bikes_disabled','num_docks_available','num_docks_disabled', 'last_reported']].groupby(bike_frame['is_returning']).mean()"
   ]
  },
  {
   "cell_type": "code",
   "execution_count": 301,
   "metadata": {},
   "outputs": [
    {
     "data": {
      "text/html": [
       "<div>\n",
       "<style scoped>\n",
       "    .dataframe tbody tr th:only-of-type {\n",
       "        vertical-align: middle;\n",
       "    }\n",
       "\n",
       "    .dataframe tbody tr th {\n",
       "        vertical-align: top;\n",
       "    }\n",
       "\n",
       "    .dataframe thead th {\n",
       "        text-align: right;\n",
       "    }\n",
       "</style>\n",
       "<table border=\"1\" class=\"dataframe\">\n",
       "  <thead>\n",
       "    <tr style=\"text-align: right;\">\n",
       "      <th></th>\n",
       "      <th>num_bikes_available</th>\n",
       "      <th>num_bikes_disabled</th>\n",
       "      <th>num_docks_available</th>\n",
       "      <th>num_docks_disabled</th>\n",
       "      <th>last_reported</th>\n",
       "    </tr>\n",
       "    <tr>\n",
       "      <th>is_renting</th>\n",
       "      <th></th>\n",
       "      <th></th>\n",
       "      <th></th>\n",
       "      <th></th>\n",
       "      <th></th>\n",
       "    </tr>\n",
       "  </thead>\n",
       "  <tbody>\n",
       "    <tr>\n",
       "      <th>0</th>\n",
       "      <td>0.000000</td>\n",
       "      <td>0.000000</td>\n",
       "      <td>0.000000</td>\n",
       "      <td>0.000000</td>\n",
       "      <td>0.000000e+00</td>\n",
       "    </tr>\n",
       "    <tr>\n",
       "      <th>1</th>\n",
       "      <td>7.790503</td>\n",
       "      <td>0.349162</td>\n",
       "      <td>9.022346</td>\n",
       "      <td>0.089385</td>\n",
       "      <td>1.548968e+09</td>\n",
       "    </tr>\n",
       "  </tbody>\n",
       "</table>\n",
       "</div>"
      ],
      "text/plain": [
       "            num_bikes_available  num_bikes_disabled  num_docks_available  \\\n",
       "is_renting                                                                 \n",
       "0                      0.000000            0.000000             0.000000   \n",
       "1                      7.790503            0.349162             9.022346   \n",
       "\n",
       "            num_docks_disabled  last_reported  \n",
       "is_renting                                     \n",
       "0                     0.000000   0.000000e+00  \n",
       "1                     0.089385   1.548968e+09  "
      ]
     },
     "execution_count": 301,
     "metadata": {},
     "output_type": "execute_result"
    }
   ],
   "source": [
    "bike_frame[['num_bikes_available','num_bikes_disabled','num_docks_available','num_docks_disabled', 'last_reported']].groupby(bike_frame['is_renting']).mean()\n"
   ]
  },
  {
   "cell_type": "markdown",
   "metadata": {},
   "source": [
    "Unsurprisingly, stations that are not renting, returning, or installed have no bikes available, and have the value for last_reported set to zero. Future graphics and tables may just want to use those that are renting and returning. Let's look at these correlations! <br>\n",
    "Appears that most correlations are close to zero. The exception is that the number of bikes available and number of docks available are negatively correlated:\n",
    "<br>r=-.5<br>\n",
    "This make sense"
   ]
  },
  {
   "cell_type": "code",
   "execution_count": 302,
   "metadata": {},
   "outputs": [
    {
     "data": {
      "text/html": [
       "<div>\n",
       "<style scoped>\n",
       "    .dataframe tbody tr th:only-of-type {\n",
       "        vertical-align: middle;\n",
       "    }\n",
       "\n",
       "    .dataframe tbody tr th {\n",
       "        vertical-align: top;\n",
       "    }\n",
       "\n",
       "    .dataframe thead th {\n",
       "        text-align: right;\n",
       "    }\n",
       "</style>\n",
       "<table border=\"1\" class=\"dataframe\">\n",
       "  <thead>\n",
       "    <tr style=\"text-align: right;\">\n",
       "      <th></th>\n",
       "      <th>num_bikes_available</th>\n",
       "      <th>num_bikes_disabled</th>\n",
       "      <th>num_docks_available</th>\n",
       "      <th>num_docks_disabled</th>\n",
       "      <th>last_reported</th>\n",
       "    </tr>\n",
       "  </thead>\n",
       "  <tbody>\n",
       "    <tr>\n",
       "      <th>num_bikes_available</th>\n",
       "      <td>1.000000</td>\n",
       "      <td>0.001051</td>\n",
       "      <td>-0.548890</td>\n",
       "      <td>0.086982</td>\n",
       "      <td>0.042512</td>\n",
       "    </tr>\n",
       "    <tr>\n",
       "      <th>num_bikes_disabled</th>\n",
       "      <td>0.001051</td>\n",
       "      <td>1.000000</td>\n",
       "      <td>-0.018291</td>\n",
       "      <td>0.061733</td>\n",
       "      <td>0.041746</td>\n",
       "    </tr>\n",
       "    <tr>\n",
       "      <th>num_docks_available</th>\n",
       "      <td>-0.548890</td>\n",
       "      <td>-0.018291</td>\n",
       "      <td>1.000000</td>\n",
       "      <td>-0.071622</td>\n",
       "      <td>-0.075279</td>\n",
       "    </tr>\n",
       "    <tr>\n",
       "      <th>num_docks_disabled</th>\n",
       "      <td>0.086982</td>\n",
       "      <td>0.061733</td>\n",
       "      <td>-0.071622</td>\n",
       "      <td>1.000000</td>\n",
       "      <td>0.019198</td>\n",
       "    </tr>\n",
       "    <tr>\n",
       "      <th>last_reported</th>\n",
       "      <td>0.042512</td>\n",
       "      <td>0.041746</td>\n",
       "      <td>-0.075279</td>\n",
       "      <td>0.019198</td>\n",
       "      <td>1.000000</td>\n",
       "    </tr>\n",
       "  </tbody>\n",
       "</table>\n",
       "</div>"
      ],
      "text/plain": [
       "                     num_bikes_available  num_bikes_disabled  \\\n",
       "num_bikes_available             1.000000            0.001051   \n",
       "num_bikes_disabled              0.001051            1.000000   \n",
       "num_docks_available            -0.548890           -0.018291   \n",
       "num_docks_disabled              0.086982            0.061733   \n",
       "last_reported                   0.042512            0.041746   \n",
       "\n",
       "                     num_docks_available  num_docks_disabled  last_reported  \n",
       "num_bikes_available            -0.548890            0.086982       0.042512  \n",
       "num_bikes_disabled             -0.018291            0.061733       0.041746  \n",
       "num_docks_available             1.000000           -0.071622      -0.075279  \n",
       "num_docks_disabled             -0.071622            1.000000       0.019198  \n",
       "last_reported                  -0.075279            0.019198       1.000000  "
      ]
     },
     "execution_count": 302,
     "metadata": {},
     "output_type": "execute_result"
    }
   ],
   "source": [
    "bike_frame_open= bike_frame[bike_frame.is_returning==1]\n",
    "bike_frame_open[['num_bikes_available','num_bikes_disabled','num_docks_available','num_docks_disabled', 'last_reported']].corr()"
   ]
  },
  {
   "cell_type": "code",
   "execution_count": 303,
   "metadata": {},
   "outputs": [
    {
     "data": {
      "text/html": [
       "<div>\n",
       "<style scoped>\n",
       "    .dataframe tbody tr th:only-of-type {\n",
       "        vertical-align: middle;\n",
       "    }\n",
       "\n",
       "    .dataframe tbody tr th {\n",
       "        vertical-align: top;\n",
       "    }\n",
       "\n",
       "    .dataframe thead th {\n",
       "        text-align: right;\n",
       "    }\n",
       "</style>\n",
       "<table border=\"1\" class=\"dataframe\">\n",
       "  <thead>\n",
       "    <tr style=\"text-align: right;\">\n",
       "      <th></th>\n",
       "      <th>fenced_bikes</th>\n",
       "      <th>num_bikes_disabled</th>\n",
       "      <th>fenced_docks</th>\n",
       "      <th>num_docks_disabled</th>\n",
       "      <th>fenced_report</th>\n",
       "    </tr>\n",
       "  </thead>\n",
       "  <tbody>\n",
       "    <tr>\n",
       "      <th>fenced_bikes</th>\n",
       "      <td>1.000000</td>\n",
       "      <td>0.002946</td>\n",
       "      <td>-0.579338</td>\n",
       "      <td>0.092036</td>\n",
       "      <td>0.025077</td>\n",
       "    </tr>\n",
       "    <tr>\n",
       "      <th>num_bikes_disabled</th>\n",
       "      <td>0.002946</td>\n",
       "      <td>1.000000</td>\n",
       "      <td>-0.024088</td>\n",
       "      <td>0.061733</td>\n",
       "      <td>0.025372</td>\n",
       "    </tr>\n",
       "    <tr>\n",
       "      <th>fenced_docks</th>\n",
       "      <td>-0.579338</td>\n",
       "      <td>-0.024088</td>\n",
       "      <td>1.000000</td>\n",
       "      <td>-0.071050</td>\n",
       "      <td>0.034513</td>\n",
       "    </tr>\n",
       "    <tr>\n",
       "      <th>num_docks_disabled</th>\n",
       "      <td>0.092036</td>\n",
       "      <td>0.061733</td>\n",
       "      <td>-0.071050</td>\n",
       "      <td>1.000000</td>\n",
       "      <td>0.063523</td>\n",
       "    </tr>\n",
       "    <tr>\n",
       "      <th>fenced_report</th>\n",
       "      <td>0.025077</td>\n",
       "      <td>0.025372</td>\n",
       "      <td>0.034513</td>\n",
       "      <td>0.063523</td>\n",
       "      <td>1.000000</td>\n",
       "    </tr>\n",
       "  </tbody>\n",
       "</table>\n",
       "</div>"
      ],
      "text/plain": [
       "                    fenced_bikes  num_bikes_disabled  fenced_docks  \\\n",
       "fenced_bikes            1.000000            0.002946     -0.579338   \n",
       "num_bikes_disabled      0.002946            1.000000     -0.024088   \n",
       "fenced_docks           -0.579338           -0.024088      1.000000   \n",
       "num_docks_disabled      0.092036            0.061733     -0.071050   \n",
       "fenced_report           0.025077            0.025372      0.034513   \n",
       "\n",
       "                    num_docks_disabled  fenced_report  \n",
       "fenced_bikes                  0.092036       0.025077  \n",
       "num_bikes_disabled            0.061733       0.025372  \n",
       "fenced_docks                 -0.071050       0.034513  \n",
       "num_docks_disabled            1.000000       0.063523  \n",
       "fenced_report                 0.063523       1.000000  "
      ]
     },
     "execution_count": 303,
     "metadata": {},
     "output_type": "execute_result"
    }
   ],
   "source": [
    "bike_frame_open[['fenced_bikes','num_bikes_disabled','fenced_docks','num_docks_disabled', 'fenced_report']].corr()"
   ]
  },
  {
   "cell_type": "markdown",
   "metadata": {},
   "source": [
    "## Visualization\n",
    "I have run some visualizaitons before, but mostly just histograms. Let's look at a few bivariate relationships. "
   ]
  },
  {
   "cell_type": "code",
   "execution_count": 261,
   "metadata": {},
   "outputs": [
    {
     "data": {
      "text/plain": [
       "<seaborn.axisgrid.FacetGrid at 0x1f2d002f400>"
      ]
     },
     "execution_count": 261,
     "metadata": {},
     "output_type": "execute_result"
    },
    {
     "data": {
      "image/png": "[encoded data removed]",
      "text/plain": [
       "<Figure size 360x360 with 1 Axes>"
      ]
     },
     "metadata": {
      "needs_background": "light"
     },
     "output_type": "display_data"
    }
   ],
   "source": [
    "sns.lmplot(x=\"num_bikes_available\", y=\"num_docks_available\", data=bike_frame_open)\n"
   ]
  },
  {
   "cell_type": "code",
   "execution_count": 264,
   "metadata": {},
   "outputs": [
    {
     "data": {
      "text/plain": [
       "<seaborn.axisgrid.FacetGrid at 0x1f2cfe2a160>"
      ]
     },
     "execution_count": 264,
     "metadata": {},
     "output_type": "execute_result"
    },
    {
     "data": {
      "image/png": "[encoded data removed]",
      "text/plain": [
       "<Figure size 360x360 with 1 Axes>"
      ]
     },
     "metadata": {
      "needs_background": "light"
     },
     "output_type": "display_data"
    }
   ],
   "source": [
    "sns.lmplot(x=\"fenced_report\", y=\"num_docks_available\", data=bike_frame_open)\n"
   ]
  },
  {
   "cell_type": "code",
   "execution_count": 269,
   "metadata": {},
   "outputs": [
    {
     "data": {
      "text/plain": [
       "<matplotlib.axes._subplots.AxesSubplot at 0x1f2d07d40f0>"
      ]
     },
     "execution_count": 269,
     "metadata": {},
     "output_type": "execute_result"
    },
    {
     "data": {
      "image/png": "[encoded data removed]",
      "text/plain": [
       "<Figure size 432x288 with 1 Axes>"
      ]
     },
     "metadata": {
      "needs_background": "light"
     },
     "output_type": "display_data"
    }
   ],
   "source": [
    "sns.barplot(bike_frame_open['num_bikes_disabled'],bike_frame_open['fenced_report'])\n"
   ]
  },
  {
   "cell_type": "markdown",
   "metadata": {},
   "source": [
    "Below we examine the number of bikes and docks available for stations that have more need for repair. It makes sense that those with fewer docks are trending towards fewer repairs. We couldn't quite see this with correlations"
   ]
  },
  {
   "cell_type": "code",
   "execution_count": 304,
   "metadata": {},
   "outputs": [
    {
     "name": "stderr",
     "output_type": "stream",
     "text": [
      "C:\\Users\\user\\Anaconda3\\lib\\site-packages\\scipy\\stats\\stats.py:1713: FutureWarning: Using a non-tuple sequence for multidimensional indexing is deprecated; use `arr[tuple(seq)]` instead of `arr[seq]`. In the future this will be interpreted as an array index, `arr[np.array(seq)]`, which will result either in an error or a different result.\n",
      "  return np.add.reduce(sorted[indexer] * weights, axis=axis) / sumval\n"
     ]
    },
    {
     "data": {
      "text/plain": [
       "<matplotlib.axes._subplots.AxesSubplot at 0x1f2d1feac18>"
      ]
     },
     "execution_count": 304,
     "metadata": {},
     "output_type": "execute_result"
    },
    {
     "data": {
      "image/png": "[encoded data removed]",
      "text/plain": [
       "<Figure size 432x288 with 1 Axes>"
      ]
     },
     "metadata": {
      "needs_background": "light"
     },
     "output_type": "display_data"
    }
   ],
   "source": [
    "sns.barplot(bike_frame_open['num_docks_disabled'],bike_frame_open['num_bikes_available'])\n"
   ]
  },
  {
   "cell_type": "code",
   "execution_count": 305,
   "metadata": {},
   "outputs": [
    {
     "data": {
      "text/plain": [
       "<matplotlib.axes._subplots.AxesSubplot at 0x1f2d2025898>"
      ]
     },
     "execution_count": 305,
     "metadata": {},
     "output_type": "execute_result"
    },
    {
     "data": {
      "image/png": "[encoded data removed]",
      "text/plain": [
       "<Figure size 432x288 with 1 Axes>"
      ]
     },
     "metadata": {
      "needs_background": "light"
     },
     "output_type": "display_data"
    }
   ],
   "source": [
    "sns.barplot(bike_frame_open['num_bikes_disabled'],bike_frame_open['num_bikes_available'])\n"
   ]
  },
  {
   "cell_type": "markdown",
   "metadata": {},
   "source": [
    "# The End!"
   ]
  }
 ],
 "metadata": {
  "kernelspec": {
   "display_name": "Python 3",
   "language": "python",
   "name": "python3"
  },
  "language_info": {
   "codemirror_mode": {
    "name": "ipython",
    "version": 3
   },
   "file_extension": ".py",
   "mimetype": "text/x-python",
   "name": "python",
   "nbconvert_exporter": "python",
   "pygments_lexer": "ipython3",
   "version": "3.7.1"
  }
 },
 "nbformat": 4,
 "nbformat_minor": 2
}
