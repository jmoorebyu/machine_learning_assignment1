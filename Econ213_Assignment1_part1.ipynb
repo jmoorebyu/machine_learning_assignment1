{
 "cells": [
  {
   "cell_type": "markdown",
   "metadata": {},
   "source": [
    "# The Good, the Bad, and the Ugly\n",
    "## An analysis of apostle, celebrity, and politician twitter data"
   ]
  },
  {
   "cell_type": "markdown",
   "metadata": {},
   "source": [
    "First, importing relevant packages at the beginning"
   ]
  },
  {
   "cell_type": "code",
   "execution_count": 2,
   "metadata": {},
   "outputs": [],
   "source": [
    "import tweepy, pandas as pd, numpy as np, json, re, seaborn as sns\n",
    "from textblob import TextBlob"
   ]
  },
  {
   "cell_type": "markdown",
   "metadata": {},
   "source": [
    "Setting up twitter API authentication"
   ]
  },
  {
   "cell_type": "code",
   "execution_count": 4,
   "metadata": {},
   "outputs": [],
   "source": [
    "consumer_key = 'sW0oAfGFGSWUHbOGv5JhvpCiW'\n",
    "consumer_secret = 'V6lRbVNA7WKhOu71Io5QyHAr0x0GazuHDNDkykaAeuJjxbNSea'\n",
    "access_token = '250349566-Q5lBnCb2TQwUGrroNVQgJ2HHkkZPxgyBJQWZYLWM'\n",
    "access_token_secret = 'NjoCJw62fcxh2t8JFQmA6jxuwLLE6904o6ETOgq02MlzY'\n",
    "\n",
    "auth = tweepy.OAuthHandler(consumer_key, consumer_secret)\n",
    "auth.set_access_token(access_token, access_token_secret)\n",
    "api = tweepy.API(auth)\n"
   ]
  },
  {
   "cell_type": "markdown",
   "metadata": {},
   "source": [
    "Creating a dataframe for tweets and metadata for each public figure. Essentially I use the user_timeline api to grab 200 tweets, turn that into a dataframe, and then add metadata as columns."
   ]
  },
  {
   "cell_type": "code",
   "execution_count": 26,
   "metadata": {},
   "outputs": [],
   "source": [
    "users = [\"OaksDallinH\", \"UchtdorfDF\", \"KingJames\", \"johntravoltahot\", \"kevinbacon\", \"KimKardashian\", \"officialjaden\", \n",
    "         \"EyringHB\", \"BednarDavidA\", \"NelsonRussellM\", \"SpeakerPelosi\", \"realDonaldTrump\", \"RepBenMcAdams\", \n",
    "         \"KremlinRussia_E\", \"HillaryClinton\"]\n",
    "tweetdata = dict()\n",
    "tweetdfs = dict()\n",
    "for x in users:\n",
    "    tweetdata[x]= api.user_timeline(screen_name=x, count=200)\n",
    "    tweetdfs[x] = pd.DataFrame(data=[tweet.text for tweet in tweetdata[x]], columns=['Tweets'])\n",
    "    tweetdfs[x]['name'] = np.array([tweet.author.name for tweet in tweetdata[x]])\n",
    "    tweetdfs[x]['followers'] = np.array([tweet.author.followers_count for tweet in tweetdata[x]])\n",
    "    tweetdfs[x]['Date'] = np.array([tweet.created_at for tweet in tweetdata[x]])\n",
    "    tweetdfs[x]['Likes'] = np.array([tweet.favorite_count for tweet in tweetdata[x]])\n",
    "    tweetdfs[x]['Retweets'] = np.array([tweet.retweet_count for tweet in tweetdata[x]])\n",
    "    tweetdfs[x]['length'] = np.array([len(tweet.text) for tweet in tweetdata[x]])\n"
   ]
  },
  {
   "cell_type": "markdown",
   "metadata": {},
   "source": [
    "Next I use some \"data wrangling\" to put them all into one big dataframe"
   ]
  },
  {
   "cell_type": "code",
   "execution_count": 244,
   "metadata": {},
   "outputs": [],
   "source": [
    "bigtweetframe = pd.concat([tweetdfs[\"NelsonRussellM\"],tweetdfs[\"KingJames\"], tweetdfs[\"OaksDallinH\"], tweetdfs[\"UchtdorfDF\"],\n",
    "                          tweetdfs[\"johntravoltahot\"], tweetdfs[\"kevinbacon\"], tweetdfs[\"KimKardashian\"],\n",
    "                           tweetdfs[\"officialjaden\"], tweetdfs[\"EyringHB\"], tweetdfs[\"BednarDavidA\"], \n",
    "                           tweetdfs[\"SpeakerPelosi\"], tweetdfs[\"realDonaldTrump\"], tweetdfs[\"RepBenMcAdams\"], \n",
    "                           tweetdfs[\"KremlinRussia_E\"], tweetdfs[\"HillaryClinton\"]])"
   ]
  },
  {
   "cell_type": "markdown",
   "metadata": {},
   "source": [
    "From the tweet text, I use some code I found at https://dev.to/rodolfoferro/sentiment-analysis-on-trumpss-tweets-using-python- to clean the text from strange characters and then run it through algorithms that score the \"polarity\" and \"subjectivity\" of each tweet"
   ]
  },
  {
   "cell_type": "code",
   "execution_count": 245,
   "metadata": {},
   "outputs": [],
   "source": [
    "def clean_tweet(tweet):\n",
    "    '''\n",
    "    Utility function to clean the text in a tweet by removing \n",
    "    links and special characters using regex.\n",
    "    '''\n",
    "    return ' '.join(re.sub(\"(@[A-Za-z0-9]+)|([^0-9A-Za-z \\t])|(\\w+:\\/\\/\\S+)\", \" \", tweet).split())\n",
    "\n",
    "def analize_sentiment_polarity(tweet):\n",
    "    '''\n",
    "    Utility function to classify the polarity of a tweet\n",
    "    using textblob.\n",
    "    '''\n",
    "    analysis = TextBlob(clean_tweet(tweet))\n",
    "    return analysis.sentiment.polarity \n",
    "\n",
    "def analize_sentiment_subjectivity(tweet):\n",
    "    '''\n",
    "    Utility function to classify the subjectivity of a tweet\n",
    "    using textblob.\n",
    "    '''\n",
    "    analysis = TextBlob(clean_tweet(tweet))\n",
    "    return analysis.sentiment.subjectivity "
   ]
  },
  {
   "cell_type": "code",
   "execution_count": 246,
   "metadata": {},
   "outputs": [],
   "source": [
    "bigtweetframe['positivity'] = np.array([ analize_sentiment_polarity(tweet) for tweet in bigtweetframe['Tweets'] ])\n",
    "bigtweetframe['subjectivity'] = np.array([ analize_sentiment_subjectivity(tweet) for tweet in bigtweetframe['Tweets'] ])"
   ]
  },
  {
   "cell_type": "markdown",
   "metadata": {},
   "source": [
    "Next I create a variable that distinguishes between Apostles, Celebrities, and Politicians"
   ]
  },
  {
   "cell_type": "code",
   "execution_count": 247,
   "metadata": {},
   "outputs": [],
   "source": [
    "bigtweetframe['category'] = bigtweetframe['name'].replace([\"Russell M. Nelson\", \"David A. Bednar\", \"Henry B. Eyring\",\n",
    "                                                           \"Dallin H. Oaks\", \"Dieter F. Uchtdorf\"], \"Apostle\")\n",
    "bigtweetframe['category2'] = bigtweetframe['category'].replace(['John Travolta', 'Kevin Bacon',\n",
    "'Kim Kardashian West', 'Jaden Smith', 'LeBron James'], \"Celeb\")\n",
    "\n",
    "bigtweetframe['Category'] = bigtweetframe['category2'].replace(['Nancy Pelosi',\n",
    "       'Donald J. Trump', 'Rep. Ben McAdams', 'President of Russia', 'Hillary Clinton'], \"Politician\")\n",
    "\n",
    "bigtweetframe = bigtweetframe.drop(columns=['category','category2'])"
   ]
  },
  {
   "cell_type": "markdown",
   "metadata": {},
   "source": [
    "Now, let's take a look at the data to see what needs to be cleaned. First, some summary statistics"
   ]
  },
  {
   "cell_type": "code",
   "execution_count": 186,
   "metadata": {},
   "outputs": [
    {
     "data": {
      "text/html": [
       "<div>\n",
       "<style scoped>\n",
       "    .dataframe tbody tr th:only-of-type {\n",
       "        vertical-align: middle;\n",
       "    }\n",
       "\n",
       "    .dataframe tbody tr th {\n",
       "        vertical-align: top;\n",
       "    }\n",
       "\n",
       "    .dataframe thead th {\n",
       "        text-align: right;\n",
       "    }\n",
       "</style>\n",
       "<table border=\"1\" class=\"dataframe\">\n",
       "  <thead>\n",
       "    <tr style=\"text-align: right;\">\n",
       "      <th></th>\n",
       "      <th>followers</th>\n",
       "      <th>Likes</th>\n",
       "      <th>Retweets</th>\n",
       "      <th>length</th>\n",
       "      <th>positivity</th>\n",
       "      <th>subjectivity</th>\n",
       "      <th>logretweets</th>\n",
       "      <th>loglikes</th>\n",
       "    </tr>\n",
       "  </thead>\n",
       "  <tbody>\n",
       "    <tr>\n",
       "      <th>count</th>\n",
       "      <td>2.576000e+03</td>\n",
       "      <td>2576.000000</td>\n",
       "      <td>2576.000000</td>\n",
       "      <td>2576.000000</td>\n",
       "      <td>2576.000000</td>\n",
       "      <td>2576.000000</td>\n",
       "      <td>2576.000000</td>\n",
       "      <td>2576.000000</td>\n",
       "    </tr>\n",
       "    <tr>\n",
       "      <th>mean</th>\n",
       "      <td>1.518734e+07</td>\n",
       "      <td>15254.404891</td>\n",
       "      <td>3941.640528</td>\n",
       "      <td>108.471661</td>\n",
       "      <td>0.135082</td>\n",
       "      <td>0.319568</td>\n",
       "      <td>5.769737</td>\n",
       "      <td>6.083177</td>\n",
       "    </tr>\n",
       "    <tr>\n",
       "      <th>std</th>\n",
       "      <td>2.217978e+07</td>\n",
       "      <td>36675.628493</td>\n",
       "      <td>9656.792962</td>\n",
       "      <td>40.011716</td>\n",
       "      <td>0.263885</td>\n",
       "      <td>0.320181</td>\n",
       "      <td>2.810645</td>\n",
       "      <td>3.881193</td>\n",
       "    </tr>\n",
       "    <tr>\n",
       "      <th>min</th>\n",
       "      <td>8.939000e+03</td>\n",
       "      <td>0.000000</td>\n",
       "      <td>0.000000</td>\n",
       "      <td>1.000000</td>\n",
       "      <td>-1.000000</td>\n",
       "      <td>0.000000</td>\n",
       "      <td>-0.105361</td>\n",
       "      <td>-0.105361</td>\n",
       "    </tr>\n",
       "    <tr>\n",
       "      <th>25%</th>\n",
       "      <td>1.752220e+05</td>\n",
       "      <td>10.000000</td>\n",
       "      <td>88.000000</td>\n",
       "      <td>80.000000</td>\n",
       "      <td>0.000000</td>\n",
       "      <td>0.000000</td>\n",
       "      <td>4.487512</td>\n",
       "      <td>2.388763</td>\n",
       "    </tr>\n",
       "    <tr>\n",
       "      <th>50%</th>\n",
       "      <td>6.905690e+05</td>\n",
       "      <td>1204.500000</td>\n",
       "      <td>371.000000</td>\n",
       "      <td>132.000000</td>\n",
       "      <td>0.000000</td>\n",
       "      <td>0.288889</td>\n",
       "      <td>5.918625</td>\n",
       "      <td>7.094567</td>\n",
       "    </tr>\n",
       "    <tr>\n",
       "      <th>75%</th>\n",
       "      <td>2.402127e+07</td>\n",
       "      <td>8459.000000</td>\n",
       "      <td>2343.500000</td>\n",
       "      <td>140.000000</td>\n",
       "      <td>0.267938</td>\n",
       "      <td>0.550833</td>\n",
       "      <td>7.759783</td>\n",
       "      <td>9.043092</td>\n",
       "    </tr>\n",
       "    <tr>\n",
       "      <th>max</th>\n",
       "      <td>5.948987e+07</td>\n",
       "      <td>446956.000000</td>\n",
       "      <td>184055.000000</td>\n",
       "      <td>155.000000</td>\n",
       "      <td>1.000000</td>\n",
       "      <td>1.000000</td>\n",
       "      <td>12.122995</td>\n",
       "      <td>13.010217</td>\n",
       "    </tr>\n",
       "  </tbody>\n",
       "</table>\n",
       "</div>"
      ],
      "text/plain": [
       "          followers          Likes       Retweets       length   positivity  \\\n",
       "count  2.576000e+03    2576.000000    2576.000000  2576.000000  2576.000000   \n",
       "mean   1.518734e+07   15254.404891    3941.640528   108.471661     0.135082   \n",
       "std    2.217978e+07   36675.628493    9656.792962    40.011716     0.263885   \n",
       "min    8.939000e+03       0.000000       0.000000     1.000000    -1.000000   \n",
       "25%    1.752220e+05      10.000000      88.000000    80.000000     0.000000   \n",
       "50%    6.905690e+05    1204.500000     371.000000   132.000000     0.000000   \n",
       "75%    2.402127e+07    8459.000000    2343.500000   140.000000     0.267938   \n",
       "max    5.948987e+07  446956.000000  184055.000000   155.000000     1.000000   \n",
       "\n",
       "       subjectivity  logretweets     loglikes  \n",
       "count   2576.000000  2576.000000  2576.000000  \n",
       "mean       0.319568     5.769737     6.083177  \n",
       "std        0.320181     2.810645     3.881193  \n",
       "min        0.000000    -0.105361    -0.105361  \n",
       "25%        0.000000     4.487512     2.388763  \n",
       "50%        0.288889     5.918625     7.094567  \n",
       "75%        0.550833     7.759783     9.043092  \n",
       "max        1.000000    12.122995    13.010217  "
      ]
     },
     "execution_count": 186,
     "metadata": {},
     "output_type": "execute_result"
    }
   ],
   "source": [
    "bigtweetframe.describe()"
   ]
  },
  {
   "cell_type": "markdown",
   "metadata": {},
   "source": [
    "### Data Cleaning Overall\n",
    "There do not seem to be many unusual values, mostly just large ones that are possible for people with millions of followers. The few exceptions are length: tweets should normally be only 140 characters. We'll look into that later, but next we'll go to each variable and examine it further. \n",
    "##### Missing values \n",
    "Also not an issue: each variable has 2,576 observations.\n",
    "### Examining variable by variable for outliers or normality\n",
    "#### Followers\n",
    "Everyone here has a lot of followers, but they are orders of magnitude different. This variable should only have 15 unique values and is constant for each public figure so it can't be used at the \"tweet\" level. We'll look at the unique values though."
   ]
  },
  {
   "cell_type": "code",
   "execution_count": 189,
   "metadata": {},
   "outputs": [
    {
     "data": {
      "text/plain": [
       "array([  145448, 42066710,   175222,   278318,    10339,   653705,\n",
       "       59489874,  8014462,   170556,   234937,  2152447, 57870675,\n",
       "           8939,   690569, 24021266], dtype=int64)"
      ]
     },
     "execution_count": 189,
     "metadata": {},
     "output_type": "execute_result"
    }
   ],
   "source": [
    "bigtweetframe['followers'].unique()"
   ]
  },
  {
   "cell_type": "markdown",
   "metadata": {},
   "source": [
    "A few with around 10k-70k, others with 8, 24, 59 million. That's a lot!"
   ]
  },
  {
   "cell_type": "markdown",
   "metadata": {},
   "source": [
    "#### Likes \n",
    "Likes also vary a lot. There are some with zero likes, and many of those are a little different: the user doesn't get credit when there is a retweet. Though this assignment's scope is limited, it would be beneficial in the future to distinguish those tweets that are retweets and others. If we look at the distribution, it is definitely not normal. We can log-transfor likes to make it normal, and potentially more usable, as shown by the second graph. This is an alternative approach to dealing with outliers. However, this is looking at all data: if we want to use likes for an individual public figure we may want to look at their specific distribution"
   ]
  },
  {
   "cell_type": "code",
   "execution_count": 94,
   "metadata": {},
   "outputs": [
    {
     "data": {
      "text/plain": [
       "<matplotlib.axes._subplots.AxesSubplot at 0x138dd7bc0b8>"
      ]
     },
     "execution_count": 94,
     "metadata": {},
     "output_type": "execute_result"
    },
    {
     "data": {
      "image/png": "[encoded data removed]",
      "text/plain": [
       "<Figure size 432x288 with 1 Axes>"
      ]
     },
     "metadata": {
      "needs_background": "light"
     },
     "output_type": "display_data"
    }
   ],
   "source": [
    "sns.distplot(bigtweetframe['Likes'], kde=False)"
   ]
  },
  {
   "cell_type": "code",
   "execution_count": 250,
   "metadata": {},
   "outputs": [
    {
     "data": {
      "text/plain": [
       "<matplotlib.axes._subplots.AxesSubplot at 0x138dd450438>"
      ]
     },
     "execution_count": 250,
     "metadata": {},
     "output_type": "execute_result"
    },
    {
     "data": {
      "image/png": "[encoded data removed]",
      "text/plain": [
       "<Figure size 432x288 with 1 Axes>"
      ]
     },
     "metadata": {
      "needs_background": "light"
     },
     "output_type": "display_data"
    }
   ],
   "source": [
    "bigtweetframe['loglikes'] = np.log(bigtweetframe['Likes']+.9)\n",
    "sns.distplot(bigtweetframe['loglikes'], kde=False)"
   ]
  },
  {
   "cell_type": "markdown",
   "metadata": {},
   "source": [
    "#### Retweets\n",
    "Retweets are also really skewed. Unlike likes, a user is credited when someone retweets a tweet that they retweeted, so zeros really mean no one retweeted it. Log transformation seems to also fix retweets, though it is thrown off slightly by the 5% or so of tweets that were not retweeted."
   ]
  },
  {
   "cell_type": "code",
   "execution_count": 176,
   "metadata": {},
   "outputs": [
    {
     "data": {
      "text/plain": [
       "<matplotlib.axes._subplots.AxesSubplot at 0x138dd9018d0>"
      ]
     },
     "execution_count": 176,
     "metadata": {},
     "output_type": "execute_result"
    },
    {
     "data": {
      "image/png": "[encoded data removed]",
      "text/plain": [
       "<Figure size 432x288 with 1 Axes>"
      ]
     },
     "metadata": {
      "needs_background": "light"
     },
     "output_type": "display_data"
    }
   ],
   "source": [
    "sns.distplot(bigtweetframe['Retweets'], kde=False)"
   ]
  },
  {
   "cell_type": "code",
   "execution_count": 251,
   "metadata": {
    "scrolled": true
   },
   "outputs": [
    {
     "data": {
      "text/plain": [
       "<matplotlib.axes._subplots.AxesSubplot at 0x138df370ef0>"
      ]
     },
     "execution_count": 251,
     "metadata": {},
     "output_type": "execute_result"
    },
    {
     "data": {
      "image/png": "[encoded data removed]",
      "text/plain": [
       "<Figure size 432x288 with 1 Axes>"
      ]
     },
     "metadata": {
      "needs_background": "light"
     },
     "output_type": "display_data"
    }
   ],
   "source": [
    "bigtweetframe['logretweets'] = np.log(bigtweetframe['Retweets']+.9)\n",
    "sns.distplot(bigtweetframe['logretweets'], kde=False)"
   ]
  },
  {
   "cell_type": "markdown",
   "metadata": {},
   "source": [
    "#### Subjectivitiy\n",
    "This variable is the algorithms rating of how \"subjective\" the tweet is. Many tweets receive a subjectivity rating of 0, with 1 as the largest value."
   ]
  },
  {
   "cell_type": "code",
   "execution_count": 248,
   "metadata": {},
   "outputs": [
    {
     "data": {
      "text/plain": [
       "<matplotlib.axes._subplots.AxesSubplot at 0x138dd438668>"
      ]
     },
     "execution_count": 248,
     "metadata": {},
     "output_type": "execute_result"
    },
    {
     "data": {
      "image/png": "[encoded data removed]",
      "text/plain": [
       "<Figure size 432x288 with 1 Axes>"
      ]
     },
     "metadata": {
      "needs_background": "light"
     },
     "output_type": "display_data"
    }
   ],
   "source": [
    "sns.distplot(bigtweetframe['subjectivity'], kde=False)"
   ]
  },
  {
   "cell_type": "markdown",
   "metadata": {},
   "source": [
    "We can look at whether there are any extreme values in subjectivity. It looks like for a value to be extreme it would have to be above 1.4 or below -.8. These don't exist in our data, so we don't need to worry about outliers for positivity."
   ]
  },
  {
   "cell_type": "code",
   "execution_count": 199,
   "metadata": {},
   "outputs": [
    {
     "name": "stdout",
     "output_type": "stream",
     "text": [
      "1.3905555555555558 -0.8127777777777778\n"
     ]
    }
   ],
   "source": [
    "a=bigtweetframe['subjectivity']\n",
    "subj_upbound=2*(a.quantile(.75)-a.quantile(.25))+a.quantile(.50)\n",
    "subj_lowbound=-2*(a.quantile(.75)-a.quantile(.25))+a.quantile(.50)\n",
    "print(subj_upbound, subj_lowbound)\n",
    "\n",
    "\n",
    "\n"
   ]
  },
  {
   "cell_type": "markdown",
   "metadata": {},
   "source": [
    "#### Positivity\n",
    "A very interesting variable from this dataset looks at how positive or negative the sentiment from the tweet was, as determined by the algorithm. Looks like very many tweets received a positivity score of zero. What is up in these case?"
   ]
  },
  {
   "cell_type": "code",
   "execution_count": 95,
   "metadata": {},
   "outputs": [
    {
     "data": {
      "text/plain": [
       "<matplotlib.axes._subplots.AxesSubplot at 0x138dbacdac8>"
      ]
     },
     "execution_count": 95,
     "metadata": {},
     "output_type": "execute_result"
    },
    {
     "data": {
      "image/png": "[encoded data removed]",
      "text/plain": [
       "<Figure size 432x288 with 1 Axes>"
      ]
     },
     "metadata": {
      "needs_background": "light"
     },
     "output_type": "display_data"
    }
   ],
   "source": [
    "sns.distplot(bigtweetframe['positivity'], kde=False)\n"
   ]
  },
  {
   "cell_type": "code",
   "execution_count": 231,
   "metadata": {},
   "outputs": [
    {
     "data": {
      "text/html": [
       "<div>\n",
       "<style scoped>\n",
       "    .dataframe tbody tr th:only-of-type {\n",
       "        vertical-align: middle;\n",
       "    }\n",
       "\n",
       "    .dataframe tbody tr th {\n",
       "        vertical-align: top;\n",
       "    }\n",
       "\n",
       "    .dataframe thead th {\n",
       "        text-align: right;\n",
       "    }\n",
       "</style>\n",
       "<table border=\"1\" class=\"dataframe\">\n",
       "  <thead>\n",
       "    <tr style=\"text-align: right;\">\n",
       "      <th></th>\n",
       "      <th>Tweets</th>\n",
       "      <th>name</th>\n",
       "    </tr>\n",
       "  </thead>\n",
       "  <tbody>\n",
       "    <tr>\n",
       "      <th>70</th>\n",
       "      <td>Never seen @senatemajldr and Republicans so united on an issue as they are on the Humanitarian Crisis &amp;amp; Security on… https://t.co/aHShFrWjHN</td>\n",
       "      <td>Donald J. Trump</td>\n",
       "    </tr>\n",
       "    <tr>\n",
       "      <th>25</th>\n",
       "      <td>Our Savior, Jesus Christ, knows each of us by name. I witness and promise we can not only know about the Lord but a… https://t.co/6cZecZ7QHj</td>\n",
       "      <td>David A. Bednar</td>\n",
       "    </tr>\n",
       "    <tr>\n",
       "      <th>160</th>\n",
       "      <td>((VISION)) 3x?</td>\n",
       "      <td>Jaden Smith</td>\n",
       "    </tr>\n",
       "    <tr>\n",
       "      <th>69</th>\n",
       "      <td>@realDonaldTrump The truth? Republicans started the #TrumpShutdown — and Democrats are working to end it.… https://t.co/sg7u48dbsr</td>\n",
       "      <td>Nancy Pelosi</td>\n",
       "    </tr>\n",
       "    <tr>\n",
       "      <th>110</th>\n",
       "      <td>See where I come from/We had to beat the streets/Beat the system, beat racism, beat poverty/And now we made it thro… https://t.co/GFHlmbtyQ2</td>\n",
       "      <td>LeBron James</td>\n",
       "    </tr>\n",
       "    <tr>\n",
       "      <th>139</th>\n",
       "      <td>The final margin in the race for Senate in Florida is too close to call, and the Secretary of State has just ordere… https://t.co/G3SRaWw0f4</td>\n",
       "      <td>Hillary Clinton</td>\n",
       "    </tr>\n",
       "    <tr>\n",
       "      <th>123</th>\n",
       "      <td>Ciara Minaj Carter. \\nNikki Janelle Enriquez. \\nLondonn Moore. \\nShantee Tucker. \\nDejanay Stanton. \\nVontashia Bell. \\nS… https://t.co/gm6WO6lpmQ</td>\n",
       "      <td>Hillary Clinton</td>\n",
       "    </tr>\n",
       "    <tr>\n",
       "      <th>53</th>\n",
       "      <td>Kyra Sedgwick Launches Big Swing Productions; Unveils TV &amp;amp; Film Slate | Deadline yeah baby! https://t.co/KFFoBFZJtK</td>\n",
       "      <td>Kevin Bacon</td>\n",
       "    </tr>\n",
       "    <tr>\n",
       "      <th>110</th>\n",
       "      <td>Coming soon... https://t.co/rrxN4B4Vj1</td>\n",
       "      <td>Kim Kardashian West</td>\n",
       "    </tr>\n",
       "    <tr>\n",
       "      <th>160</th>\n",
       "      <td>My 2 faves!!! https://t.co/0LfMVk5koZ</td>\n",
       "      <td>Kim Kardashian West</td>\n",
       "    </tr>\n",
       "  </tbody>\n",
       "</table>\n",
       "</div>"
      ],
      "text/plain": [
       "                                                                                                                                                 Tweets  \\\n",
       "70     Never seen @senatemajldr and Republicans so united on an issue as they are on the Humanitarian Crisis &amp; Security on… https://t.co/aHShFrWjHN   \n",
       "25         Our Savior, Jesus Christ, knows each of us by name. I witness and promise we can not only know about the Lord but a… https://t.co/6cZecZ7QHj   \n",
       "160                                                                                                                                      ((VISION)) 3x?   \n",
       "69                   @realDonaldTrump The truth? Republicans started the #TrumpShutdown — and Democrats are working to end it.… https://t.co/sg7u48dbsr   \n",
       "110        See where I come from/We had to beat the streets/Beat the system, beat racism, beat poverty/And now we made it thro… https://t.co/GFHlmbtyQ2   \n",
       "139        The final margin in the race for Senate in Florida is too close to call, and the Secretary of State has just ordere… https://t.co/G3SRaWw0f4   \n",
       "123  Ciara Minaj Carter. \\nNikki Janelle Enriquez. \\nLondonn Moore. \\nShantee Tucker. \\nDejanay Stanton. \\nVontashia Bell. \\nS… https://t.co/gm6WO6lpmQ   \n",
       "53                              Kyra Sedgwick Launches Big Swing Productions; Unveils TV &amp; Film Slate | Deadline yeah baby! https://t.co/KFFoBFZJtK   \n",
       "110                                                                                                              Coming soon... https://t.co/rrxN4B4Vj1   \n",
       "160                                                                                                               My 2 faves!!! https://t.co/0LfMVk5koZ   \n",
       "\n",
       "                    name  \n",
       "70       Donald J. Trump  \n",
       "25       David A. Bednar  \n",
       "160          Jaden Smith  \n",
       "69          Nancy Pelosi  \n",
       "110         LeBron James  \n",
       "139      Hillary Clinton  \n",
       "123      Hillary Clinton  \n",
       "53           Kevin Bacon  \n",
       "110  Kim Kardashian West  \n",
       "160  Kim Kardashian West  "
      ]
     },
     "execution_count": 231,
     "metadata": {},
     "output_type": "execute_result"
    }
   ],
   "source": [
    "bigtweetframe[['Tweets', 'name']][bigtweetframe.positivity==0].sample(10)"
   ]
  },
  {
   "cell_type": "markdown",
   "metadata": {},
   "source": [
    "Though some of these have truly neutral text (e.g. \"Coming soon...\"), others are not just plain. There doesn't seem to be a justification to chuck 0's out, though it is worth examining. <br>\n",
    "Next let's look at potential outliers"
   ]
  },
  {
   "cell_type": "code",
   "execution_count": 249,
   "metadata": {},
   "outputs": [
    {
     "name": "stdout",
     "output_type": "stream",
     "text": [
      "top and bottwom whiskers: 0.5358766233766235 -0.5358766233766235\n"
     ]
    }
   ],
   "source": [
    "a=bigtweetframe['positivity']\n",
    "pos_upbound=2*(a.quantile(.75)-a.quantile(.25))+a.quantile(.50)\n",
    "pos_lowbound=-2*(a.quantile(.75)-a.quantile(.25))+a.quantile(.50)\n",
    "print(\"top and bottwom whiskers:\", pos_upbound, pos_lowbound)"
   ]
  },
  {
   "cell_type": "code",
   "execution_count": 235,
   "metadata": {},
   "outputs": [
    {
     "name": "stdout",
     "output_type": "stream",
     "text": [
      "top and bottom whiskers excluding 0's 0.966919191919192 -0.46691919191919196\n"
     ]
    }
   ],
   "source": [
    "a=bigtweetframe['positivity'].replace(0,np.NaN)\n",
    "pos_upbound=2*(a.quantile(.75)-a.quantile(.25))+a.quantile(.50)\n",
    "pos_lowbound=-2*(a.quantile(.75)-a.quantile(.25))+a.quantile(.50)\n",
    "print(\"top and bottom whiskers excluding 0's\", pos_upbound, pos_lowbound)"
   ]
  },
  {
   "cell_type": "markdown",
   "metadata": {},
   "source": [
    "Looks like whether or not we exclude 0's, there are values that are well outside the whisker plots. Examining the content of really positive and really negative sentiments, it seems that the most negative are not always quite so bad, just that there isn't any other content. The same might be said of the most positive. It is probably worthwhile to create a truncated variable with fenced outliers."
   ]
  },
  {
   "cell_type": "code",
   "execution_count": 224,
   "metadata": {},
   "outputs": [
    {
     "data": {
      "text/html": [
       "<div>\n",
       "<style scoped>\n",
       "    .dataframe tbody tr th:only-of-type {\n",
       "        vertical-align: middle;\n",
       "    }\n",
       "\n",
       "    .dataframe tbody tr th {\n",
       "        vertical-align: top;\n",
       "    }\n",
       "\n",
       "    .dataframe thead th {\n",
       "        text-align: right;\n",
       "    }\n",
       "</style>\n",
       "<table border=\"1\" class=\"dataframe\">\n",
       "  <thead>\n",
       "    <tr style=\"text-align: right;\">\n",
       "      <th></th>\n",
       "      <th>Tweets</th>\n",
       "      <th>name</th>\n",
       "    </tr>\n",
       "  </thead>\n",
       "  <tbody>\n",
       "    <tr>\n",
       "      <th>12</th>\n",
       "      <td>I promise that if we will do our best to restore the correct name of the Lord’s Church, He whose Church this is wil… https://t.co/sQdwKhNOup</td>\n",
       "      <td>Russell M. Nelson</td>\n",
       "    </tr>\n",
       "    <tr>\n",
       "      <th>54</th>\n",
       "      <td>“A book is meant to be read from beginning to end but it’s best understood from end to beginning”- Mr. Church 📖</td>\n",
       "      <td>LeBron James</td>\n",
       "    </tr>\n",
       "    <tr>\n",
       "      <th>53</th>\n",
       "      <td>God knows your every thought, your sorrows, and your greatest hopes. \\n\\nNo matter your history—if you have faltered,… https://t.co/8TS5gkJkNs</td>\n",
       "      <td>Dieter F. Uchtdorf</td>\n",
       "    </tr>\n",
       "    <tr>\n",
       "      <th>90</th>\n",
       "      <td>God’s greatest reward goes to those who serve without expectation of reward.</td>\n",
       "      <td>Dieter F. Uchtdorf</td>\n",
       "    </tr>\n",
       "    <tr>\n",
       "      <th>158</th>\n",
       "      <td>Our perfect Father in Heaven opens the windows of heaven and pours out a blessing to those who incline their hearts to Him and serve others.</td>\n",
       "      <td>Dieter F. Uchtdorf</td>\n",
       "    </tr>\n",
       "    <tr>\n",
       "      <th>188</th>\n",
       "      <td>Today I was blessed to participate in the Phoenix Arizona Temple dedication. How wonderful the Lord's temples are. http://t.co/fXv02C9O8u</td>\n",
       "      <td>Dieter F. Uchtdorf</td>\n",
       "    </tr>\n",
       "    <tr>\n",
       "      <th>47</th>\n",
       "      <td>Hope everyone is having a wonderful Easter. I'M HUNGRY. :)</td>\n",
       "      <td>John Travolta</td>\n",
       "    </tr>\n",
       "    <tr>\n",
       "      <th>95</th>\n",
       "      <td>RT @SixDegreesofKB: This is awesome @ricky_martin! Your commitment to building 100 homes for families in #PuertoRico is an inspiration! Rea…</td>\n",
       "      <td>Kevin Bacon</td>\n",
       "    </tr>\n",
       "    <tr>\n",
       "      <th>131</th>\n",
       "      <td>The best!!! https://t.co/LsKZdFp8BO</td>\n",
       "      <td>Kim Kardashian West</td>\n",
       "    </tr>\n",
       "    <tr>\n",
       "      <th>189</th>\n",
       "      <td>I hope you have the best birthday 💋 https://t.co/DiwTU7faTi</td>\n",
       "      <td>Kim Kardashian West</td>\n",
       "    </tr>\n",
       "  </tbody>\n",
       "</table>\n",
       "</div>"
      ],
      "text/plain": [
       "                                                                                                                                             Tweets  \\\n",
       "12     I promise that if we will do our best to restore the correct name of the Lord’s Church, He whose Church this is wil… https://t.co/sQdwKhNOup   \n",
       "54                                  “A book is meant to be read from beginning to end but it’s best understood from end to beginning”- Mr. Church 📖   \n",
       "53   God knows your every thought, your sorrows, and your greatest hopes. \\n\\nNo matter your history—if you have faltered,… https://t.co/8TS5gkJkNs   \n",
       "90                                                                     God’s greatest reward goes to those who serve without expectation of reward.   \n",
       "158    Our perfect Father in Heaven opens the windows of heaven and pours out a blessing to those who incline their hearts to Him and serve others.   \n",
       "188       Today I was blessed to participate in the Phoenix Arizona Temple dedication. How wonderful the Lord's temples are. http://t.co/fXv02C9O8u   \n",
       "47                                                                                       Hope everyone is having a wonderful Easter. I'M HUNGRY. :)   \n",
       "95     RT @SixDegreesofKB: This is awesome @ricky_martin! Your commitment to building 100 homes for families in #PuertoRico is an inspiration! Rea…   \n",
       "131                                                                                                             The best!!! https://t.co/LsKZdFp8BO   \n",
       "189                                                                                     I hope you have the best birthday 💋 https://t.co/DiwTU7faTi   \n",
       "\n",
       "                    name  \n",
       "12     Russell M. Nelson  \n",
       "54          LeBron James  \n",
       "53    Dieter F. Uchtdorf  \n",
       "90    Dieter F. Uchtdorf  \n",
       "158   Dieter F. Uchtdorf  \n",
       "188   Dieter F. Uchtdorf  \n",
       "47         John Travolta  \n",
       "95           Kevin Bacon  \n",
       "131  Kim Kardashian West  \n",
       "189  Kim Kardashian West  "
      ]
     },
     "execution_count": 224,
     "metadata": {},
     "output_type": "execute_result"
    }
   ],
   "source": [
    "pd.options.display.max_colwidth = 200\n",
    "bigtweetframe[['Tweets','name',]][bigtweetframe.positivity==1].head(10)"
   ]
  },
  {
   "cell_type": "code",
   "execution_count": 230,
   "metadata": {},
   "outputs": [
    {
     "data": {
      "text/html": [
       "<div>\n",
       "<style scoped>\n",
       "    .dataframe tbody tr th:only-of-type {\n",
       "        vertical-align: middle;\n",
       "    }\n",
       "\n",
       "    .dataframe tbody tr th {\n",
       "        vertical-align: top;\n",
       "    }\n",
       "\n",
       "    .dataframe thead th {\n",
       "        text-align: right;\n",
       "    }\n",
       "</style>\n",
       "<table border=\"1\" class=\"dataframe\">\n",
       "  <thead>\n",
       "    <tr style=\"text-align: right;\">\n",
       "      <th></th>\n",
       "      <th>Tweets</th>\n",
       "      <th>name</th>\n",
       "    </tr>\n",
       "  </thead>\n",
       "  <tbody>\n",
       "    <tr>\n",
       "      <th>52</th>\n",
       "      <td>Nasty!! https://t.co/xkmg3fsHOi</td>\n",
       "      <td>LeBron James</td>\n",
       "    </tr>\n",
       "    <tr>\n",
       "      <th>47</th>\n",
       "      <td>Immersing ourselves in the words of the Lord’s chosen servants can protect us from evil. I invite you to do so this weekend at #LDSconf.</td>\n",
       "      <td>Henry B. Eyring</td>\n",
       "    </tr>\n",
       "    <tr>\n",
       "      <th>67</th>\n",
       "      <td>RT @RepDianaDeGette: Stories like Mallory’s reveal the terrifying reality of this shutdown. Furloughed workers are facing life-or-death sit…</td>\n",
       "      <td>Nancy Pelosi</td>\n",
       "    </tr>\n",
       "    <tr>\n",
       "      <th>166</th>\n",
       "      <td>We won’t let the GOP’s cruel lawsuit stop Americans from getting affordable health care.\\n\\nRemember: today is the de… https://t.co/qVR6K3HHb5</td>\n",
       "      <td>Nancy Pelosi</td>\n",
       "    </tr>\n",
       "  </tbody>\n",
       "</table>\n",
       "</div>"
      ],
      "text/plain": [
       "                                                                                                                                             Tweets  \\\n",
       "52                                                                                                                  Nasty!! https://t.co/xkmg3fsHOi   \n",
       "47         Immersing ourselves in the words of the Lord’s chosen servants can protect us from evil. I invite you to do so this weekend at #LDSconf.   \n",
       "67     RT @RepDianaDeGette: Stories like Mallory’s reveal the terrifying reality of this shutdown. Furloughed workers are facing life-or-death sit…   \n",
       "166  We won’t let the GOP’s cruel lawsuit stop Americans from getting affordable health care.\\n\\nRemember: today is the de… https://t.co/qVR6K3HHb5   \n",
       "\n",
       "                name  \n",
       "52      LeBron James  \n",
       "47   Henry B. Eyring  \n",
       "67      Nancy Pelosi  \n",
       "166     Nancy Pelosi  "
      ]
     },
     "execution_count": 230,
     "metadata": {},
     "output_type": "execute_result"
    }
   ],
   "source": [
    "pd.options.display.max_colwidth = 200\n",
    "bigtweetframe[['Tweets','name',]][bigtweetframe.positivity==-1]"
   ]
  },
  {
   "cell_type": "code",
   "execution_count": 254,
   "metadata": {},
   "outputs": [],
   "source": [
    "bigtweetframe['fenced_positivity']=bigtweetframe['positivity']\n",
    "bigtweetframe['fenced_positivity'].loc[bigtweetframe['fenced_positivity']<=-.53]=-.53\n",
    "bigtweetframe['fenced_positivity'].loc[bigtweetframe['fenced_positivity']>=.53]=.53"
   ]
  },
  {
   "cell_type": "code",
   "execution_count": 282,
   "metadata": {},
   "outputs": [
    {
     "name": "stdout",
     "output_type": "stream",
     "text": [
      "<class 'pandas.core.frame.DataFrame'>\n",
      "Int64Index: 2576 entries, 0 to 199\n",
      "Data columns (total 13 columns):\n",
      "Tweets               2576 non-null object\n",
      "name                 2576 non-null object\n",
      "followers            2576 non-null int32\n",
      "Date                 2576 non-null datetime64[ns]\n",
      "Likes                2576 non-null int32\n",
      "Retweets             2576 non-null int32\n",
      "length               2576 non-null int32\n",
      "positivity           2576 non-null float64\n",
      "subjectivity         2576 non-null float64\n",
      "Category             2576 non-null object\n",
      "loglikes             2576 non-null float64\n",
      "logretweets          2576 non-null float64\n",
      "fenced_positivity    2576 non-null float64\n",
      "dtypes: datetime64[ns](1), float64(5), int32(4), object(3)\n",
      "memory usage: 321.5+ KB\n"
     ]
    }
   ],
   "source": [
    "bigtweetframe.info()"
   ]
  },
  {
   "cell_type": "markdown",
   "metadata": {},
   "source": [
    "Looks like there is a variable or two that should be categorical. The name variable would messy our dataframe if we tried to create a dummy variable; let's try the Category variable though"
   ]
  },
  {
   "cell_type": "code",
   "execution_count": 287,
   "metadata": {},
   "outputs": [],
   "source": [
    "dummy_df = pd.get_dummies(bigtweetframe['Category']) # creating a dataframe with dummy variables\n",
    "bigtweetframe = pd.concat([bigtweetframe, dummy_df], axis=1) # merging it with the regular frame\n"
   ]
  },
  {
   "cell_type": "code",
   "execution_count": 317,
   "metadata": {},
   "outputs": [
    {
     "data": {
      "text/html": [
       "<div>\n",
       "<style scoped>\n",
       "    .dataframe tbody tr th:only-of-type {\n",
       "        vertical-align: middle;\n",
       "    }\n",
       "\n",
       "    .dataframe tbody tr th {\n",
       "        vertical-align: top;\n",
       "    }\n",
       "\n",
       "    .dataframe thead th {\n",
       "        text-align: right;\n",
       "    }\n",
       "</style>\n",
       "<table border=\"1\" class=\"dataframe\">\n",
       "  <thead>\n",
       "    <tr style=\"text-align: right;\">\n",
       "      <th></th>\n",
       "      <th>followers</th>\n",
       "      <th>Likes</th>\n",
       "      <th>Retweets</th>\n",
       "      <th>length</th>\n",
       "      <th>positivity</th>\n",
       "      <th>subjectivity</th>\n",
       "      <th>loglikes</th>\n",
       "      <th>logretweets</th>\n",
       "      <th>fenced_positivity</th>\n",
       "      <th>Apostle</th>\n",
       "      <th>Celeb</th>\n",
       "      <th>Politician</th>\n",
       "    </tr>\n",
       "  </thead>\n",
       "  <tbody>\n",
       "    <tr>\n",
       "      <th>count</th>\n",
       "      <td>2576.00</td>\n",
       "      <td>2576.00</td>\n",
       "      <td>2576.00</td>\n",
       "      <td>2576.00</td>\n",
       "      <td>2576.00</td>\n",
       "      <td>2576.00</td>\n",
       "      <td>2576.00</td>\n",
       "      <td>2576.00</td>\n",
       "      <td>2576.00</td>\n",
       "      <td>2576.00</td>\n",
       "      <td>2576.00</td>\n",
       "      <td>2576.00</td>\n",
       "    </tr>\n",
       "    <tr>\n",
       "      <th>mean</th>\n",
       "      <td>15187337.85</td>\n",
       "      <td>15254.40</td>\n",
       "      <td>3941.64</td>\n",
       "      <td>108.47</td>\n",
       "      <td>0.14</td>\n",
       "      <td>0.32</td>\n",
       "      <td>6.08</td>\n",
       "      <td>5.77</td>\n",
       "      <td>0.12</td>\n",
       "      <td>0.23</td>\n",
       "      <td>0.38</td>\n",
       "      <td>0.39</td>\n",
       "    </tr>\n",
       "    <tr>\n",
       "      <th>std</th>\n",
       "      <td>22179782.06</td>\n",
       "      <td>36675.63</td>\n",
       "      <td>9656.79</td>\n",
       "      <td>40.01</td>\n",
       "      <td>0.26</td>\n",
       "      <td>0.32</td>\n",
       "      <td>3.88</td>\n",
       "      <td>2.81</td>\n",
       "      <td>0.22</td>\n",
       "      <td>0.42</td>\n",
       "      <td>0.49</td>\n",
       "      <td>0.49</td>\n",
       "    </tr>\n",
       "    <tr>\n",
       "      <th>min</th>\n",
       "      <td>8939.00</td>\n",
       "      <td>0.00</td>\n",
       "      <td>0.00</td>\n",
       "      <td>1.00</td>\n",
       "      <td>-1.00</td>\n",
       "      <td>0.00</td>\n",
       "      <td>-0.11</td>\n",
       "      <td>-0.11</td>\n",
       "      <td>-0.53</td>\n",
       "      <td>0.00</td>\n",
       "      <td>0.00</td>\n",
       "      <td>0.00</td>\n",
       "    </tr>\n",
       "    <tr>\n",
       "      <th>25%</th>\n",
       "      <td>175222.00</td>\n",
       "      <td>10.00</td>\n",
       "      <td>88.00</td>\n",
       "      <td>80.00</td>\n",
       "      <td>0.00</td>\n",
       "      <td>0.00</td>\n",
       "      <td>2.39</td>\n",
       "      <td>4.49</td>\n",
       "      <td>0.00</td>\n",
       "      <td>0.00</td>\n",
       "      <td>0.00</td>\n",
       "      <td>0.00</td>\n",
       "    </tr>\n",
       "    <tr>\n",
       "      <th>50%</th>\n",
       "      <td>690569.00</td>\n",
       "      <td>1204.50</td>\n",
       "      <td>371.00</td>\n",
       "      <td>132.00</td>\n",
       "      <td>0.00</td>\n",
       "      <td>0.29</td>\n",
       "      <td>7.09</td>\n",
       "      <td>5.92</td>\n",
       "      <td>0.00</td>\n",
       "      <td>0.00</td>\n",
       "      <td>0.00</td>\n",
       "      <td>0.00</td>\n",
       "    </tr>\n",
       "    <tr>\n",
       "      <th>75%</th>\n",
       "      <td>24021266.00</td>\n",
       "      <td>8459.00</td>\n",
       "      <td>2343.50</td>\n",
       "      <td>140.00</td>\n",
       "      <td>0.27</td>\n",
       "      <td>0.55</td>\n",
       "      <td>9.04</td>\n",
       "      <td>7.76</td>\n",
       "      <td>0.27</td>\n",
       "      <td>0.00</td>\n",
       "      <td>1.00</td>\n",
       "      <td>1.00</td>\n",
       "    </tr>\n",
       "    <tr>\n",
       "      <th>max</th>\n",
       "      <td>59489874.00</td>\n",
       "      <td>446956.00</td>\n",
       "      <td>184055.00</td>\n",
       "      <td>155.00</td>\n",
       "      <td>1.00</td>\n",
       "      <td>1.00</td>\n",
       "      <td>13.01</td>\n",
       "      <td>12.12</td>\n",
       "      <td>0.53</td>\n",
       "      <td>1.00</td>\n",
       "      <td>1.00</td>\n",
       "      <td>1.00</td>\n",
       "    </tr>\n",
       "  </tbody>\n",
       "</table>\n",
       "</div>"
      ],
      "text/plain": [
       "         followers      Likes   Retweets   length  positivity  subjectivity  \\\n",
       "count      2576.00    2576.00    2576.00  2576.00     2576.00       2576.00   \n",
       "mean   15187337.85   15254.40    3941.64   108.47        0.14          0.32   \n",
       "std    22179782.06   36675.63    9656.79    40.01        0.26          0.32   \n",
       "min        8939.00       0.00       0.00     1.00       -1.00          0.00   \n",
       "25%      175222.00      10.00      88.00    80.00        0.00          0.00   \n",
       "50%      690569.00    1204.50     371.00   132.00        0.00          0.29   \n",
       "75%    24021266.00    8459.00    2343.50   140.00        0.27          0.55   \n",
       "max    59489874.00  446956.00  184055.00   155.00        1.00          1.00   \n",
       "\n",
       "       loglikes  logretweets  fenced_positivity  Apostle    Celeb  Politician  \n",
       "count   2576.00      2576.00            2576.00  2576.00  2576.00     2576.00  \n",
       "mean       6.08         5.77               0.12     0.23     0.38        0.39  \n",
       "std        3.88         2.81               0.22     0.42     0.49        0.49  \n",
       "min       -0.11        -0.11              -0.53     0.00     0.00        0.00  \n",
       "25%        2.39         4.49               0.00     0.00     0.00        0.00  \n",
       "50%        7.09         5.92               0.00     0.00     0.00        0.00  \n",
       "75%        9.04         7.76               0.27     0.00     1.00        1.00  \n",
       "max       13.01        12.12               0.53     1.00     1.00        1.00  "
      ]
     },
     "execution_count": 317,
     "metadata": {},
     "output_type": "execute_result"
    }
   ],
   "source": [
    "bigtweetframe.describe().round(2)"
   ]
  },
  {
   "cell_type": "code",
   "execution_count": 320,
   "metadata": {},
   "outputs": [
    {
     "data": {
      "text/plain": [
       "Nancy Pelosi           200\n",
       "Rep. Ben McAdams       200\n",
       "Kevin Bacon            200\n",
       "Donald J. Trump        200\n",
       "LeBron James           200\n",
       "Hillary Clinton        200\n",
       "Jaden Smith            200\n",
       "Kim Kardashian West    200\n",
       "President of Russia    200\n",
       "Dieter F. Uchtdorf     197\n",
       "John Travolta          179\n",
       "Henry B. Eyring        131\n",
       "Russell M. Nelson      106\n",
       "David A. Bednar         98\n",
       "Dallin H. Oaks          65\n",
       "Name: name, dtype: int64"
      ]
     },
     "execution_count": 320,
     "metadata": {},
     "output_type": "execute_result"
    }
   ],
   "source": [
    "bigtweetframe['name'].value_counts()"
   ]
  },
  {
   "cell_type": "code",
   "execution_count": 318,
   "metadata": {},
   "outputs": [
    {
     "data": {
      "text/html": [
       "<div>\n",
       "<style scoped>\n",
       "    .dataframe tbody tr th:only-of-type {\n",
       "        vertical-align: middle;\n",
       "    }\n",
       "\n",
       "    .dataframe tbody tr th {\n",
       "        vertical-align: top;\n",
       "    }\n",
       "\n",
       "    .dataframe thead th {\n",
       "        text-align: right;\n",
       "    }\n",
       "</style>\n",
       "<table border=\"1\" class=\"dataframe\">\n",
       "  <thead>\n",
       "    <tr style=\"text-align: right;\">\n",
       "      <th></th>\n",
       "      <th>Likes</th>\n",
       "      <th>Retweets</th>\n",
       "      <th>fenced_positivity</th>\n",
       "      <th>positivity</th>\n",
       "      <th>subjectivity</th>\n",
       "    </tr>\n",
       "    <tr>\n",
       "      <th>Category</th>\n",
       "      <th></th>\n",
       "      <th></th>\n",
       "      <th></th>\n",
       "      <th></th>\n",
       "      <th></th>\n",
       "    </tr>\n",
       "  </thead>\n",
       "  <tbody>\n",
       "    <tr>\n",
       "      <th>Apostle</th>\n",
       "      <td>2045.53</td>\n",
       "      <td>433.99</td>\n",
       "      <td>0.19</td>\n",
       "      <td>0.21</td>\n",
       "      <td>0.40</td>\n",
       "    </tr>\n",
       "    <tr>\n",
       "      <th>Celeb</th>\n",
       "      <td>13246.53</td>\n",
       "      <td>2689.13</td>\n",
       "      <td>0.11</td>\n",
       "      <td>0.13</td>\n",
       "      <td>0.29</td>\n",
       "    </tr>\n",
       "    <tr>\n",
       "      <th>Politician</th>\n",
       "      <td>25105.81</td>\n",
       "      <td>7261.92</td>\n",
       "      <td>0.09</td>\n",
       "      <td>0.10</td>\n",
       "      <td>0.30</td>\n",
       "    </tr>\n",
       "  </tbody>\n",
       "</table>\n",
       "</div>"
      ],
      "text/plain": [
       "               Likes  Retweets  fenced_positivity  positivity  subjectivity\n",
       "Category                                                                   \n",
       "Apostle      2045.53    433.99               0.19        0.21          0.40\n",
       "Celeb       13246.53   2689.13               0.11        0.13          0.29\n",
       "Politician  25105.81   7261.92               0.09        0.10          0.30"
      ]
     },
     "execution_count": 318,
     "metadata": {},
     "output_type": "execute_result"
    }
   ],
   "source": [
    "bigtweetframe.groupby(by=\"Category\")[[\"Likes\", \"Retweets\",\"fenced_positivity\",\"positivity\",\"subjectivity\"]].mean().round(2)"
   ]
  },
  {
   "cell_type": "code",
   "execution_count": 316,
   "metadata": {},
   "outputs": [
    {
     "data": {
      "text/html": [
       "<div>\n",
       "<style scoped>\n",
       "    .dataframe tbody tr th:only-of-type {\n",
       "        vertical-align: middle;\n",
       "    }\n",
       "\n",
       "    .dataframe tbody tr th {\n",
       "        vertical-align: top;\n",
       "    }\n",
       "\n",
       "    .dataframe thead th {\n",
       "        text-align: right;\n",
       "    }\n",
       "</style>\n",
       "<table border=\"1\" class=\"dataframe\">\n",
       "  <thead>\n",
       "    <tr style=\"text-align: right;\">\n",
       "      <th></th>\n",
       "      <th>followers</th>\n",
       "      <th>Likes</th>\n",
       "      <th>Retweets</th>\n",
       "      <th>fenced_positivity</th>\n",
       "      <th>positivity</th>\n",
       "      <th>subjectivity</th>\n",
       "    </tr>\n",
       "    <tr>\n",
       "      <th>name</th>\n",
       "      <th></th>\n",
       "      <th></th>\n",
       "      <th></th>\n",
       "      <th></th>\n",
       "      <th></th>\n",
       "      <th></th>\n",
       "    </tr>\n",
       "  </thead>\n",
       "  <tbody>\n",
       "    <tr>\n",
       "      <th>Dallin H. Oaks</th>\n",
       "      <td>175222.0</td>\n",
       "      <td>1465.09</td>\n",
       "      <td>322.51</td>\n",
       "      <td>0.15</td>\n",
       "      <td>0.16</td>\n",
       "      <td>0.37</td>\n",
       "    </tr>\n",
       "    <tr>\n",
       "      <th>David A. Bednar</th>\n",
       "      <td>234937.0</td>\n",
       "      <td>1600.26</td>\n",
       "      <td>363.43</td>\n",
       "      <td>0.17</td>\n",
       "      <td>0.18</td>\n",
       "      <td>0.40</td>\n",
       "    </tr>\n",
       "    <tr>\n",
       "      <th>Dieter F. Uchtdorf</th>\n",
       "      <td>278318.0</td>\n",
       "      <td>2539.63</td>\n",
       "      <td>569.84</td>\n",
       "      <td>0.22</td>\n",
       "      <td>0.24</td>\n",
       "      <td>0.46</td>\n",
       "    </tr>\n",
       "    <tr>\n",
       "      <th>Donald J. Trump</th>\n",
       "      <td>57870675.0</td>\n",
       "      <td>85203.94</td>\n",
       "      <td>24763.91</td>\n",
       "      <td>0.09</td>\n",
       "      <td>0.09</td>\n",
       "      <td>0.40</td>\n",
       "    </tr>\n",
       "    <tr>\n",
       "      <th>Henry B. Eyring</th>\n",
       "      <td>170556.0</td>\n",
       "      <td>1513.83</td>\n",
       "      <td>316.02</td>\n",
       "      <td>0.19</td>\n",
       "      <td>0.21</td>\n",
       "      <td>0.39</td>\n",
       "    </tr>\n",
       "    <tr>\n",
       "      <th>Hillary Clinton</th>\n",
       "      <td>24021266.0</td>\n",
       "      <td>19856.40</td>\n",
       "      <td>5143.20</td>\n",
       "      <td>0.13</td>\n",
       "      <td>0.14</td>\n",
       "      <td>0.36</td>\n",
       "    </tr>\n",
       "    <tr>\n",
       "      <th>Jaden Smith</th>\n",
       "      <td>8014462.0</td>\n",
       "      <td>9337.42</td>\n",
       "      <td>1891.50</td>\n",
       "      <td>0.05</td>\n",
       "      <td>0.06</td>\n",
       "      <td>0.19</td>\n",
       "    </tr>\n",
       "    <tr>\n",
       "      <th>John Travolta</th>\n",
       "      <td>10339.0</td>\n",
       "      <td>10.34</td>\n",
       "      <td>2.73</td>\n",
       "      <td>0.11</td>\n",
       "      <td>0.12</td>\n",
       "      <td>0.38</td>\n",
       "    </tr>\n",
       "    <tr>\n",
       "      <th>Kevin Bacon</th>\n",
       "      <td>653705.0</td>\n",
       "      <td>722.33</td>\n",
       "      <td>3121.14</td>\n",
       "      <td>0.14</td>\n",
       "      <td>0.17</td>\n",
       "      <td>0.33</td>\n",
       "    </tr>\n",
       "    <tr>\n",
       "      <th>Kim Kardashian West</th>\n",
       "      <td>59489874.0</td>\n",
       "      <td>23723.01</td>\n",
       "      <td>3154.64</td>\n",
       "      <td>0.13</td>\n",
       "      <td>0.15</td>\n",
       "      <td>0.26</td>\n",
       "    </tr>\n",
       "    <tr>\n",
       "      <th>LeBron James</th>\n",
       "      <td>42066710.0</td>\n",
       "      <td>31049.77</td>\n",
       "      <td>4993.56</td>\n",
       "      <td>0.12</td>\n",
       "      <td>0.14</td>\n",
       "      <td>0.29</td>\n",
       "    </tr>\n",
       "    <tr>\n",
       "      <th>Nancy Pelosi</th>\n",
       "      <td>2152447.0</td>\n",
       "      <td>20015.44</td>\n",
       "      <td>6219.04</td>\n",
       "      <td>0.09</td>\n",
       "      <td>0.10</td>\n",
       "      <td>0.33</td>\n",
       "    </tr>\n",
       "    <tr>\n",
       "      <th>President of Russia</th>\n",
       "      <td>690569.0</td>\n",
       "      <td>427.54</td>\n",
       "      <td>179.32</td>\n",
       "      <td>0.02</td>\n",
       "      <td>0.02</td>\n",
       "      <td>0.10</td>\n",
       "    </tr>\n",
       "    <tr>\n",
       "      <th>Rep. Ben McAdams</th>\n",
       "      <td>8939.0</td>\n",
       "      <td>25.76</td>\n",
       "      <td>4.10</td>\n",
       "      <td>0.11</td>\n",
       "      <td>0.13</td>\n",
       "      <td>0.31</td>\n",
       "    </tr>\n",
       "    <tr>\n",
       "      <th>Russell M. Nelson</th>\n",
       "      <td>145448.0</td>\n",
       "      <td>2551.92</td>\n",
       "      <td>460.92</td>\n",
       "      <td>0.19</td>\n",
       "      <td>0.21</td>\n",
       "      <td>0.33</td>\n",
       "    </tr>\n",
       "  </tbody>\n",
       "</table>\n",
       "</div>"
      ],
      "text/plain": [
       "                      followers     Likes  Retweets  fenced_positivity  \\\n",
       "name                                                                     \n",
       "Dallin H. Oaks         175222.0   1465.09    322.51               0.15   \n",
       "David A. Bednar        234937.0   1600.26    363.43               0.17   \n",
       "Dieter F. Uchtdorf     278318.0   2539.63    569.84               0.22   \n",
       "Donald J. Trump      57870675.0  85203.94  24763.91               0.09   \n",
       "Henry B. Eyring        170556.0   1513.83    316.02               0.19   \n",
       "Hillary Clinton      24021266.0  19856.40   5143.20               0.13   \n",
       "Jaden Smith           8014462.0   9337.42   1891.50               0.05   \n",
       "John Travolta           10339.0     10.34      2.73               0.11   \n",
       "Kevin Bacon            653705.0    722.33   3121.14               0.14   \n",
       "Kim Kardashian West  59489874.0  23723.01   3154.64               0.13   \n",
       "LeBron James         42066710.0  31049.77   4993.56               0.12   \n",
       "Nancy Pelosi          2152447.0  20015.44   6219.04               0.09   \n",
       "President of Russia    690569.0    427.54    179.32               0.02   \n",
       "Rep. Ben McAdams         8939.0     25.76      4.10               0.11   \n",
       "Russell M. Nelson      145448.0   2551.92    460.92               0.19   \n",
       "\n",
       "                     positivity  subjectivity  \n",
       "name                                           \n",
       "Dallin H. Oaks             0.16          0.37  \n",
       "David A. Bednar            0.18          0.40  \n",
       "Dieter F. Uchtdorf         0.24          0.46  \n",
       "Donald J. Trump            0.09          0.40  \n",
       "Henry B. Eyring            0.21          0.39  \n",
       "Hillary Clinton            0.14          0.36  \n",
       "Jaden Smith                0.06          0.19  \n",
       "John Travolta              0.12          0.38  \n",
       "Kevin Bacon                0.17          0.33  \n",
       "Kim Kardashian West        0.15          0.26  \n",
       "LeBron James               0.14          0.29  \n",
       "Nancy Pelosi               0.10          0.33  \n",
       "President of Russia        0.02          0.10  \n",
       "Rep. Ben McAdams           0.13          0.31  \n",
       "Russell M. Nelson          0.21          0.33  "
      ]
     },
     "execution_count": 316,
     "metadata": {},
     "output_type": "execute_result"
    }
   ],
   "source": [
    "bigtweetframe.groupby(by=\"name\")[[\"followers\",\"Likes\", \"Retweets\",\"fenced_positivity\",\"positivity\",\"subjectivity\"]].mean().round(2)"
   ]
  },
  {
   "cell_type": "markdown",
   "metadata": {},
   "source": [
    "#### Does positivity predict retweets and likes\n",
    "This is examined individually: you would need to control for fixed effects to examine the collective relationship (most of the variance is explained by those who have really large followings). However, it looks like most correlations between positivity and likes are very small. The distribution is probably not much different than would be expected by chance"
   ]
  },
  {
   "cell_type": "code",
   "execution_count": 315,
   "metadata": {},
   "outputs": [
    {
     "data": {
      "text/html": [
       "<div>\n",
       "<style scoped>\n",
       "    .dataframe tbody tr th:only-of-type {\n",
       "        vertical-align: middle;\n",
       "    }\n",
       "\n",
       "    .dataframe tbody tr th {\n",
       "        vertical-align: top;\n",
       "    }\n",
       "\n",
       "    .dataframe thead th {\n",
       "        text-align: right;\n",
       "    }\n",
       "</style>\n",
       "<table border=\"1\" class=\"dataframe\">\n",
       "  <thead>\n",
       "    <tr style=\"text-align: right;\">\n",
       "      <th></th>\n",
       "      <th></th>\n",
       "      <th>Likes</th>\n",
       "      <th>fenced_positivity</th>\n",
       "    </tr>\n",
       "    <tr>\n",
       "      <th>name</th>\n",
       "      <th></th>\n",
       "      <th></th>\n",
       "      <th></th>\n",
       "    </tr>\n",
       "  </thead>\n",
       "  <tbody>\n",
       "    <tr>\n",
       "      <th rowspan=\"2\" valign=\"top\">Dallin H. Oaks</th>\n",
       "      <th>Likes</th>\n",
       "      <td>1.000000</td>\n",
       "      <td>-0.132168</td>\n",
       "    </tr>\n",
       "    <tr>\n",
       "      <th>fenced_positivity</th>\n",
       "      <td>-0.132168</td>\n",
       "      <td>1.000000</td>\n",
       "    </tr>\n",
       "    <tr>\n",
       "      <th rowspan=\"2\" valign=\"top\">David A. Bednar</th>\n",
       "      <th>Likes</th>\n",
       "      <td>1.000000</td>\n",
       "      <td>0.027114</td>\n",
       "    </tr>\n",
       "    <tr>\n",
       "      <th>fenced_positivity</th>\n",
       "      <td>0.027114</td>\n",
       "      <td>1.000000</td>\n",
       "    </tr>\n",
       "    <tr>\n",
       "      <th rowspan=\"2\" valign=\"top\">Dieter F. Uchtdorf</th>\n",
       "      <th>Likes</th>\n",
       "      <td>1.000000</td>\n",
       "      <td>-0.054087</td>\n",
       "    </tr>\n",
       "    <tr>\n",
       "      <th>fenced_positivity</th>\n",
       "      <td>-0.054087</td>\n",
       "      <td>1.000000</td>\n",
       "    </tr>\n",
       "    <tr>\n",
       "      <th rowspan=\"2\" valign=\"top\">Donald J. Trump</th>\n",
       "      <th>Likes</th>\n",
       "      <td>1.000000</td>\n",
       "      <td>-0.035765</td>\n",
       "    </tr>\n",
       "    <tr>\n",
       "      <th>fenced_positivity</th>\n",
       "      <td>-0.035765</td>\n",
       "      <td>1.000000</td>\n",
       "    </tr>\n",
       "    <tr>\n",
       "      <th rowspan=\"2\" valign=\"top\">Henry B. Eyring</th>\n",
       "      <th>Likes</th>\n",
       "      <td>1.000000</td>\n",
       "      <td>-0.005794</td>\n",
       "    </tr>\n",
       "    <tr>\n",
       "      <th>fenced_positivity</th>\n",
       "      <td>-0.005794</td>\n",
       "      <td>1.000000</td>\n",
       "    </tr>\n",
       "    <tr>\n",
       "      <th rowspan=\"2\" valign=\"top\">Hillary Clinton</th>\n",
       "      <th>Likes</th>\n",
       "      <td>1.000000</td>\n",
       "      <td>0.070614</td>\n",
       "    </tr>\n",
       "    <tr>\n",
       "      <th>fenced_positivity</th>\n",
       "      <td>0.070614</td>\n",
       "      <td>1.000000</td>\n",
       "    </tr>\n",
       "    <tr>\n",
       "      <th rowspan=\"2\" valign=\"top\">Jaden Smith</th>\n",
       "      <th>Likes</th>\n",
       "      <td>1.000000</td>\n",
       "      <td>0.038762</td>\n",
       "    </tr>\n",
       "    <tr>\n",
       "      <th>fenced_positivity</th>\n",
       "      <td>0.038762</td>\n",
       "      <td>1.000000</td>\n",
       "    </tr>\n",
       "    <tr>\n",
       "      <th rowspan=\"2\" valign=\"top\">John Travolta</th>\n",
       "      <th>Likes</th>\n",
       "      <td>1.000000</td>\n",
       "      <td>-0.057944</td>\n",
       "    </tr>\n",
       "    <tr>\n",
       "      <th>fenced_positivity</th>\n",
       "      <td>-0.057944</td>\n",
       "      <td>1.000000</td>\n",
       "    </tr>\n",
       "    <tr>\n",
       "      <th rowspan=\"2\" valign=\"top\">Kevin Bacon</th>\n",
       "      <th>Likes</th>\n",
       "      <td>1.000000</td>\n",
       "      <td>0.020461</td>\n",
       "    </tr>\n",
       "    <tr>\n",
       "      <th>fenced_positivity</th>\n",
       "      <td>0.020461</td>\n",
       "      <td>1.000000</td>\n",
       "    </tr>\n",
       "    <tr>\n",
       "      <th rowspan=\"2\" valign=\"top\">Kim Kardashian West</th>\n",
       "      <th>Likes</th>\n",
       "      <td>1.000000</td>\n",
       "      <td>0.235761</td>\n",
       "    </tr>\n",
       "    <tr>\n",
       "      <th>fenced_positivity</th>\n",
       "      <td>0.235761</td>\n",
       "      <td>1.000000</td>\n",
       "    </tr>\n",
       "    <tr>\n",
       "      <th rowspan=\"2\" valign=\"top\">LeBron James</th>\n",
       "      <th>Likes</th>\n",
       "      <td>1.000000</td>\n",
       "      <td>-0.136463</td>\n",
       "    </tr>\n",
       "    <tr>\n",
       "      <th>fenced_positivity</th>\n",
       "      <td>-0.136463</td>\n",
       "      <td>1.000000</td>\n",
       "    </tr>\n",
       "    <tr>\n",
       "      <th rowspan=\"2\" valign=\"top\">Nancy Pelosi</th>\n",
       "      <th>Likes</th>\n",
       "      <td>1.000000</td>\n",
       "      <td>-0.005070</td>\n",
       "    </tr>\n",
       "    <tr>\n",
       "      <th>fenced_positivity</th>\n",
       "      <td>-0.005070</td>\n",
       "      <td>1.000000</td>\n",
       "    </tr>\n",
       "    <tr>\n",
       "      <th rowspan=\"2\" valign=\"top\">President of Russia</th>\n",
       "      <th>Likes</th>\n",
       "      <td>1.000000</td>\n",
       "      <td>0.155036</td>\n",
       "    </tr>\n",
       "    <tr>\n",
       "      <th>fenced_positivity</th>\n",
       "      <td>0.155036</td>\n",
       "      <td>1.000000</td>\n",
       "    </tr>\n",
       "    <tr>\n",
       "      <th rowspan=\"2\" valign=\"top\">Rep. Ben McAdams</th>\n",
       "      <th>Likes</th>\n",
       "      <td>1.000000</td>\n",
       "      <td>-0.043564</td>\n",
       "    </tr>\n",
       "    <tr>\n",
       "      <th>fenced_positivity</th>\n",
       "      <td>-0.043564</td>\n",
       "      <td>1.000000</td>\n",
       "    </tr>\n",
       "    <tr>\n",
       "      <th rowspan=\"2\" valign=\"top\">Russell M. Nelson</th>\n",
       "      <th>Likes</th>\n",
       "      <td>1.000000</td>\n",
       "      <td>-0.094291</td>\n",
       "    </tr>\n",
       "    <tr>\n",
       "      <th>fenced_positivity</th>\n",
       "      <td>-0.094291</td>\n",
       "      <td>1.000000</td>\n",
       "    </tr>\n",
       "  </tbody>\n",
       "</table>\n",
       "</div>"
      ],
      "text/plain": [
       "                                          Likes  fenced_positivity\n",
       "name                                                              \n",
       "Dallin H. Oaks      Likes              1.000000          -0.132168\n",
       "                    fenced_positivity -0.132168           1.000000\n",
       "David A. Bednar     Likes              1.000000           0.027114\n",
       "                    fenced_positivity  0.027114           1.000000\n",
       "Dieter F. Uchtdorf  Likes              1.000000          -0.054087\n",
       "                    fenced_positivity -0.054087           1.000000\n",
       "Donald J. Trump     Likes              1.000000          -0.035765\n",
       "                    fenced_positivity -0.035765           1.000000\n",
       "Henry B. Eyring     Likes              1.000000          -0.005794\n",
       "                    fenced_positivity -0.005794           1.000000\n",
       "Hillary Clinton     Likes              1.000000           0.070614\n",
       "                    fenced_positivity  0.070614           1.000000\n",
       "Jaden Smith         Likes              1.000000           0.038762\n",
       "                    fenced_positivity  0.038762           1.000000\n",
       "John Travolta       Likes              1.000000          -0.057944\n",
       "                    fenced_positivity -0.057944           1.000000\n",
       "Kevin Bacon         Likes              1.000000           0.020461\n",
       "                    fenced_positivity  0.020461           1.000000\n",
       "Kim Kardashian West Likes              1.000000           0.235761\n",
       "                    fenced_positivity  0.235761           1.000000\n",
       "LeBron James        Likes              1.000000          -0.136463\n",
       "                    fenced_positivity -0.136463           1.000000\n",
       "Nancy Pelosi        Likes              1.000000          -0.005070\n",
       "                    fenced_positivity -0.005070           1.000000\n",
       "President of Russia Likes              1.000000           0.155036\n",
       "                    fenced_positivity  0.155036           1.000000\n",
       "Rep. Ben McAdams    Likes              1.000000          -0.043564\n",
       "                    fenced_positivity -0.043564           1.000000\n",
       "Russell M. Nelson   Likes              1.000000          -0.094291\n",
       "                    fenced_positivity -0.094291           1.000000"
      ]
     },
     "execution_count": 315,
     "metadata": {},
     "output_type": "execute_result"
    }
   ],
   "source": [
    "bigtweetframe.groupby(by=\"name\")[\"loglikes\",\"logretweets\",\"fenced_positivity\"].corr()\n",
    "#bigtweetframe.replace(0,np.NaN).groupby(by=\"name\")[\"Likes\",\"fenced_positivity\"].corr() #this removes likely retweets (where the user cannot get credit for likes)"
   ]
  },
  {
   "cell_type": "markdown",
   "metadata": {},
   "source": [
    "### Main Illustration\n",
    "The cell below shows a bar chart comparing the positivity of tweets from apostles, celebrities, and politicians. The black line denotes significant bands. This means that when it does not overlap with another bar, that group is statistically different. The commented out barplots were checked for robustness. Results stay the same regardless."
   ]
  },
  {
   "cell_type": "code",
   "execution_count": 341,
   "metadata": {},
   "outputs": [
    {
     "data": {
      "text/plain": [
       "<matplotlib.axes._subplots.AxesSubplot at 0x138dfb30908>"
      ]
     },
     "execution_count": 341,
     "metadata": {},
     "output_type": "execute_result"
    },
    {
     "data": {
      "image/png": "[encoded data removed]",
      "text/plain": [
       "<Figure size 432x288 with 1 Axes>"
      ]
     },
     "metadata": {
      "needs_background": "light"
     },
     "output_type": "display_data"
    }
   ],
   "source": [
    "sns.barplot(bigtweetframe['fenced_positivity'],bigtweetframe['Category'])\n",
    "#sns.barplot(bigtweetframe['fenced_positivity'].replace(0,np.NaN),bigtweetframe['Category'])\n",
    "#sns.barplot(bigtweetframe['positiity'],bigtweetframe['Category'])\n",
    "#sns.barplot(bigtweetframe['positivity'].replace(0,np.NaN),bigtweetframe['Category'])"
   ]
  },
  {
   "cell_type": "markdown",
   "metadata": {},
   "source": [
    "#### Looking individuals at more specifically\n",
    "\n",
    "Elder Uchtdorf is the most positive. He is significantly more positive than everyone except Eyring and Nelson. The 5 most positive twitter accounts are all apostles (though there are not always significant differences)"
   ]
  },
  {
   "cell_type": "code",
   "execution_count": 261,
   "metadata": {},
   "outputs": [
    {
     "data": {
      "text/plain": [
       "<matplotlib.axes._subplots.AxesSubplot at 0x138df5e05c0>"
      ]
     },
     "execution_count": 261,
     "metadata": {},
     "output_type": "execute_result"
    },
    {
     "data": {
      "image/png": "[encoded data removed]",
      "text/plain": [
       "<Figure size 432x288 with 1 Axes>"
      ]
     },
     "metadata": {
      "needs_background": "light"
     },
     "output_type": "display_data"
    }
   ],
   "source": [
    "sns.barplot(bigtweetframe['fenced_positivity'],bigtweetframe['name'])"
   ]
  },
  {
   "cell_type": "code",
   "execution_count": 332,
   "metadata": {},
   "outputs": [
    {
     "data": {
      "text/plain": [
       "<matplotlib.axes._subplots.AxesSubplot at 0x138df85e048>"
      ]
     },
     "execution_count": 332,
     "metadata": {},
     "output_type": "execute_result"
    },
    {
     "data": {
      "image/png": "[encoded data removed]",
      "text/plain": [
       "<Figure size 1152x288 with 1 Axes>"
      ]
     },
     "metadata": {
      "needs_background": "light"
     },
     "output_type": "display_data"
    }
   ],
   "source": [
    "tlikes = pd.Series(data=bigtweetframe['Likes'][bigtweetframe.name==\"Russell M. Nelson\"].values, \n",
    "                   index=bigtweetframe[bigtweetframe.name==\"Russell M. Nelson\"]['Date'])\n",
    "tlikesb = pd.Series(data=bigtweetframe['Likes'][bigtweetframe.name==\"David A. Bednar\"].values, \n",
    "                   index=bigtweetframe[bigtweetframe.name==\"David A. Bednar\"]['Date'])\n",
    "tlikes.plot(figsize=(16,4), color='r')\n",
    "tlikesb.plot(figsize=(16,4), color='b')"
   ]
  },
  {
   "cell_type": "markdown",
   "metadata": {},
   "source": [
    "Above compares the likes received by Elder Bednar's Tweets (blue) with President Nelson's (Red). They are mostly parallel until 2018, when President Nelson was called as prophet."
   ]
  },
  {
   "cell_type": "code",
   "execution_count": 338,
   "metadata": {},
   "outputs": [
    {
     "data": {
      "text/plain": [
       "<matplotlib.axes._subplots.AxesSubplot at 0x138df9d52b0>"
      ]
     },
     "execution_count": 338,
     "metadata": {},
     "output_type": "execute_result"
    },
    {
     "data": {
      "image/png": "[encoded data removed]",
      "text/plain": [
       "<Figure size 1152x288 with 1 Axes>"
      ]
     },
     "metadata": {
      "needs_background": "light"
     },
     "output_type": "display_data"
    }
   ],
   "source": [
    "tlikes = pd.Series(data=bigtweetframe['Retweets'][bigtweetframe.name==\"Russell M. Nelson\"].values, \n",
    "                   index=bigtweetframe[bigtweetframe.name==\"Russell M. Nelson\"]['Date'])\n",
    "tlikesb = pd.Series(data=bigtweetframe['Retweets'][bigtweetframe.Category==\"Apostle\"].values, \n",
    "                   index=bigtweetframe[bigtweetframe.Category==\"Apostle\"]['Date'])\n",
    "tlikes.plot(figsize=(16,4), color='b')\n",
    "tlikesb.plot(figsize=(16,4), color='r')"
   ]
  },
  {
   "cell_type": "markdown",
   "metadata": {},
   "source": [
    "Above compares the retweets received from all the apostles (red) to the retweets received by President Nelson. When he was called as prophet (2018), he goes from below to above the rest on average."
   ]
  },
  {
   "cell_type": "code",
   "execution_count": null,
   "metadata": {},
   "outputs": [],
   "source": []
  }
 ],
 "metadata": {
  "kernelspec": {
   "display_name": "Python 3",
   "language": "python",
   "name": "python3"
  },
  "language_info": {
   "codemirror_mode": {
    "name": "ipython",
    "version": 3
   },
   "file_extension": ".py",
   "mimetype": "text/x-python",
   "name": "python",
   "nbconvert_exporter": "python",
   "pygments_lexer": "ipython3",
   "version": "3.7.1"
  }
 },
 "nbformat": 4,
 "nbformat_minor": 2
}
